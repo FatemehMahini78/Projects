{
 "cells": [
  {
   "cell_type": "markdown",
   "metadata": {},
   "source": [
    "Human Face Emotions,\n",
    "This dataset contains three folders namely Happy, Sad and Angry. Each folder contains around 100 images of each mentioned expression."
   ]
  },
  {
   "cell_type": "markdown",
   "metadata": {},
   "source": [
    "Libraries we need:  "
   ]
  },
  {
   "cell_type": "code",
   "execution_count": 18,
   "metadata": {},
   "outputs": [],
   "source": [
    "import os\n",
    "import cv2\n",
    "import pickle\n",
    "import numpy as np\n",
    "from tensorflow.keras.models import Sequential\n",
    "from tensorflow.keras.layers import Conv2D, MaxPooling2D, Flatten, Dense, Dropout\n",
    "from tensorflow.keras.optimizers import Adam\n",
    "from tensorflow.keras.utils import to_categorical\n",
    "from sklearn.model_selection import train_test_split\n",
    "import matplotlib.pyplot as plt\n"
   ]
  },
  {
   "cell_type": "markdown",
   "metadata": {},
   "source": [
    "کد cnn"
   ]
  },
  {
   "cell_type": "code",
   "execution_count": 19,
   "metadata": {},
   "outputs": [],
   "source": [
    "import torch\n",
    "import torch.nn as nn\n",
    "\n",
    "class SimpleCNN(nn.Module):\n",
    "    def __init__(self):\n",
    "        super(SimpleCNN, self).__init__()\n",
    "        # First Convolutional Layer\n",
    "        self.conv1 = nn.Conv2d(in_channels=1, out_channels=32, kernel_size=3, padding=1)  # Grayscale images\n",
    "        self.pool = nn.MaxPool2d(kernel_size=2, stride=2)\n",
    "        \n",
    "        # Second Convolutional Layer\n",
    "        self.conv2 = nn.Conv2d(in_channels=32, out_channels=64, kernel_size=3, padding=1)\n",
    "        \n",
    "        # Fully Connected Layers\n",
    "        self.fc1 = nn.Linear(64 * 7 * 7, 128)  # Adjust based on input image size\n",
    "        self.fc2 = nn.Linear(128, 10)  # Output 10 classes, e.g., for MNIST\n",
    "\n",
    "    def forward(self, x):\n",
    "        x = self.pool(nn.ReLU()(self.conv1(x)))\n",
    "        x = self.pool(nn.ReLU()(self.conv2(x)))\n",
    "        x = x.view(-1, 64 * 7 * 7)  # Flatten the output from convolution layers\n",
    "        x = nn.ReLU()(self.fc1(x))\n",
    "        x = self.fc2(x)\n",
    "        return x\n",
    "\n",
    "# Instantiate the model\n",
    "model = SimpleCNN()\n"
   ]
  },
  {
   "cell_type": "markdown",
   "metadata": {},
   "source": [
    "در اینجا برای اینکه تمامی تصاویر را شامل شود بایستی فرمت آن ها را تغییر دهیم"
   ]
  },
  {
   "cell_type": "code",
   "execution_count": 20,
   "metadata": {},
   "outputs": [
    {
     "name": "stdout",
     "output_type": "stream",
     "text": [
      "Folder exists: data/Happy\n",
      "Reading image: data/Happy\\05-12-21-happy-people.jpg\n",
      "Reading image: data/Happy\\10-Habits-of-Happy-People-Seniors-Today.jpg\n",
      "Reading image: data/Happy\\110754-utyeqqosky-1547658396.jpeg\n",
      "Reading image: data/Happy\\170404-happy-workers-feature.jpg\n",
      "Reading image: data/Happy\\1920px-face-smile.svg_.png.jpg\n",
      "Reading image: data/Happy\\1HEoLBLidT2u4mhJ0oiDgig.png\n",
      "Reading image: data/Happy\\1_617fd1e2590c2.jpg\n",
      "Reading image: data/Happy\\20150413185238-secrets-happy-entrepreneurs-woman-gratitude-rainbow-.jpeg\n",
      "Reading image: data/Happy\\220px-Happy_People_A_Year_in_the_Taiga_poster.jpg\n",
      "Reading image: data/Happy\\2560px-Happy_People.jpg\n",
      "Reading image: data/Happy\\343515-worldhappinessreport1440.jpg\n",
      "Reading image: data/Happy\\35438_hd.jpg\n",
      "Reading image: data/Happy\\427394C200000578-0-image-a-24_1500384481554.jpg\n",
      "Reading image: data/Happy\\5400ea_cd54b25fdd2a4216819fe49413f0c976mv2.png\n",
      "Reading image: data/Happy\\56f455011e0000b300705475.jpeg\n",
      "Reading image: data/Happy\\613k1XcpYCL.jpg\n",
      "Reading image: data/Happy\\7-principles-of-successful-and-happy-people.png\n",
      "Reading image: data/Happy\\7VR73K6EP5ETVEOUFANWBUYJEQ.jpg\n",
      "Reading image: data/Happy\\81Vk4C.jpg\n",
      "Reading image: data/Happy\\988689_Wallpaper2.jpg\n",
      "Reading image: data/Happy\\9b65a25adca61c48bcb01370116723e3--happy-people-brings.jpg\n",
      "Reading image: data/Happy\\afro-girl-enjoying-the-sea-idyll-royalty-free-image-1661186370.jpg\n",
      "Reading image: data/Happy\\A_Sep20_14_1189155141.jpg\n",
      "Reading image: data/Happy\\blog-2.jpeg\n",
      "Reading image: data/Happy\\cess-group-positive-friends-celebrate-victory-achievement-together_1016-9922.jpg\n",
      "Reading image: data/Happy\\compassion-900x387.jpg\n",
      "Reading image: data/Happy\\Dollarphotoclub_76084977-1.jpg\n",
      "Reading image: data/Happy\\Duggar-Family-Secrets-Are-Exposed-in-New-Docuseries-Featuring-Jill-and-Amy-featured.png\n",
      "Reading image: data/Happy\\dv2051009.jpg\n",
      "Reading image: data/Happy\\e162ccda8ce0f197f8863f327add9233.jpg\n",
      "Reading image: data/Happy\\file-20230208-27-3jttof.jpg\n",
      "Reading image: data/Happy\\friends-happy-190821.jpg\n",
      "Reading image: data/Happy\\friends_190412.jpg\n",
      "Reading image: data/Happy\\gdfVVm_MyCRtqpvdkt8vtSB1n_oz_CpwCq6vNMpj0S8.jpg\n",
      "Reading image: data/Happy\\GettyImages-871518740.jpg\n",
      "Reading image: data/Happy\\getty_152414899_97046097045006_68075.jpg\n",
      "Reading image: data/Happy\\goup-happy-people-35582464.jpg\n",
      "Reading image: data/Happy\\goup-happy-people-group-jumping-isolated-white-background-35581971.jpg\n",
      "Reading image: data/Happy\\goup-happy-people-group-jumping-isolated-white-background-35582232.jpg\n",
      "Reading image: data/Happy\\group-young-happy-people-with-their-hands-up_369728-62.jpg\n",
      "Reading image: data/Happy\\group-young-people-posing-photo_52683-18823.jpg\n",
      "Reading image: data/Happy\\guilherme-stecanella-375176-unsplash.jpg\n",
      "Reading image: data/Happy\\habits-of-happy-people.jpg\n",
      "Reading image: data/Happy\\hand-drawn-happy-people-jumping_23-2149092878.jpg\n",
      "Reading image: data/Happy\\Happiness-Habits-10-Things-Happy-People-Do-Before-Bed.jpg\n",
      "Reading image: data/Happy\\happiness.jpg\n",
      "Reading image: data/Happy\\happiness_thumbnail.jpg\n",
      "Reading image: data/Happy\\Happy-Guy.jpg\n",
      "Reading image: data/Happy\\happy-indians_5f66fd46d9f5b.jpg\n",
      "Reading image: data/Happy\\Happy-people-800x533.jpg\n",
      "Reading image: data/Happy\\happy-people-jump-with-raised-arms-characters-win_107791-14884.jpg\n",
      "Reading image: data/Happy\\happy-people-vector-839522.jpg\n",
      "Reading image: data/Happy\\happy-people.jpg\n",
      "Reading image: data/Happy\\happy-people12.jpg\n",
      "Reading image: data/Happy\\happy-people2.jpg\n",
      "Reading image: data/Happy\\happy-people_1463241208.jpg\n",
      "Reading image: data/Happy\\happy-person.jpeg\n",
      "Reading image: data/Happy\\happy-woman-headphones-pink-african-american-1296x728-header.jpg\n",
      "Reading image: data/Happy\\happy-woman-with-glasses.jpg\n",
      "Reading image: data/Happy\\Happy.jpg\n",
      "Reading image: data/Happy\\happyball-3.jpg\n",
      "Reading image: data/Happy\\happypeople-1024x679.jpg\n",
      "Reading image: data/Happy\\hdptcar-fi-2.jpg\n",
      "Reading image: data/Happy\\i00YzYyLTkxY2ItY2I3OWE3NDBmNDVmXkEyXkFqcGdeQXVyMjkwOTAyMDU._V1_FMjpg_UX1000_.jpg\n",
      "Reading image: data/Happy\\image17.jpeg\n",
      "Reading image: data/Happy\\image18.jpeg\n",
      "Reading image: data/Happy\\image20.jpeg\n",
      "Reading image: data/Happy\\image22.jpeg\n",
      "Reading image: data/Happy\\image23.jpeg\n",
      "Reading image: data/Happy\\image24.jpeg\n",
      "Reading image: data/Happy\\image30.jpeg\n",
      "Reading image: data/Happy\\images12.jpg\n",
      "Reading image: data/Happy\\images14.jpg\n",
      "Reading image: data/Happy\\images17.jpg\n",
      "Reading image: data/Happy\\images20.jpg\n",
      "Reading image: data/Happy\\images22.jpg\n",
      "Reading image: data/Happy\\images5.jpg\n",
      "Reading image: data/Happy\\ipsos-global-advisor-happiness-2022-opti.jpg\n",
      "Reading image: data/Happy\\man-teenagers-celebrating-jump-flying-persons-air-characters-set_53562-10872.jpg\n",
      "Reading image: data/Happy\\maxresdefault.jpg\n",
      "Reading image: data/Happy\\ng-hands-up-carefree-enjoying-music-standing-against-white-wall_176420-38816.jpg\n",
      "Reading image: data/Happy\\nm-how-happiness-affects-health-tnail.jpg\n",
      "Reading image: data/Happy\\Overtly-Cheerful-Primer-Editorials-min-760x443.png\n",
      "Reading image: data/Happy\\p24783774_b_v13_ab.jpg\n",
      "Reading image: data/Happy\\physed-happiness-videoSixteenByNine3000.jpg\n",
      "Reading image: data/Happy\\png-clipart-happiness-graphy-smile-happy-people-love-photography.png\n",
      "Reading image: data/Happy\\png-transparent-graphy-happy-people-love-child-photography-thumbnail.png\n",
      "Reading image: data/Happy\\portrait-smiling-young-friends-walking-260nw-1392193913.jpg\n",
      "Reading image: data/Happy\\riskshappypeopletakeh_1384254283.jpg\n",
      "Reading image: data/Happy\\Screaming-Happy-Woman-THe-Trent.jpg\n",
      "Reading image: data/Happy\\shiny-happy-people.jpg\n",
      "Reading image: data/Happy\\smile.woman_.jpg\n",
      "Reading image: data/Happy\\Successful-year.jpg\n",
      "Reading image: data/Happy\\tmp_6mv7xy_5d5b15258a507669_GettyImages-847741712.jpg\n",
      "Reading image: data/Happy\\VJdvLa-download-happy-blackman-png.png\n",
      "Reading image: data/Happy\\web3-happy-people-outside-smile-sun-nature-eduardo-dutra-620857-unsplash.jpg\n",
      "Reading image: data/Happy\\where-to-watch-shiny-happy-people.jpg\n",
      "Reading image: data/Happy\\WorldHappinessReport_620.jpg\n",
      "Reading image: data/Happy\\young-and-happy-people-vector-15114154.jpg\n",
      "Reading image: data/Happy\\_happy_jumping_on_beach-40815.jpg\n",
      "Folder exists: data/Sad\n",
      "Reading image: data/Sad\\-unhappy-miss-good-chance-dressed-casually-isolated-yellow-wall_273609-37534.jpg\n",
      "Reading image: data/Sad\\09-113216-depressed_people_listen_to_sad_music_to_calm_and_uplift_says_study.jpg\n",
      "Reading image: data/Sad\\0x0.jpg\n",
      "Reading image: data/Sad\\107188144-1675355909384-gettyimages-1302154722-dsc_9175.jpeg\n",
      "Reading image: data/Sad\\1694806.jpg\n",
      "Reading image: data/Sad\\20201112-Alexithymia-844.jpg\n",
      "Reading image: data/Sad\\360_F_548848756_IlV9Y9HV8chb6mSuc3PBamYRT9gIn8Vo.jpg\n",
      "Reading image: data/Sad\\39843138-sad-man.jpg\n",
      "Reading image: data/Sad\\405-4050267_sad-people-png-sad-person-transparent-background-png.png\n",
      "Reading image: data/Sad\\5acf9ed1146e711e008b46d7.jpg\n",
      "Reading image: data/Sad\\640px-Crying-girl.jpg\n",
      "Reading image: data/Sad\\73705bd7debb66c2afc780a22c223804.jpg\n",
      "Reading image: data/Sad\\766x415_Depression_vs_Sadness-1-732x415.jpg\n",
      "Reading image: data/Sad\\7RNXwSxCAKL8vGtXG2ZkyD-1200-80.jpg\n",
      "Reading image: data/Sad\\a-man-who-suffers-from-seasonal-affective-disorder-walking-down-a-foggy-road.jpg\n",
      "Reading image: data/Sad\\african-american-depressive-sad-broken-260nw-475790911.jpg\n",
      "Reading image: data/Sad\\aid12707023-v4-1200px-Make-a-Sad-Person-Happy-Step-10.jpg\n",
      "Reading image: data/Sad\\all-those-people-who-are-sad-17573-1.jpg\n",
      "Reading image: data/Sad\\b2ap3_large_happy-sad-unsplash-850x575.jpg\n",
      "Reading image: data/Sad\\CC_HE_1221887081_SituationalDepression-650x428.jpg\n",
      "Reading image: data/Sad\\coronavirus-depression-hero.jpg\n",
      "Reading image: data/Sad\\crying-at-work.jpg\n",
      "Reading image: data/Sad\\crying-sad.gif\n",
      "Warning: Image data/Sad\\crying-sad.gif could not be loaded.\n",
      "Reading image: data/Sad\\dark-depression-mood-people-wallpaper-preview.jpg\n",
      "Reading image: data/Sad\\depositphotos_11207956-stock-photo-thoughtful-man-in-the-living.jpg\n",
      "Reading image: data/Sad\\depositphotos_86851530-stock-photo-close-up-of-african-young.jpg\n",
      "Reading image: data/Sad\\depressed-man-studio-shot-260nw-404652526.jpg\n",
      "Reading image: data/Sad\\depression-1020x680.jpg\n",
      "Reading image: data/Sad\\dreamstime_s_101440985.jpg\n",
      "Reading image: data/Sad\\file-20211126-25-4jc5ds.jpeg\n",
      "Reading image: data/Sad\\How-To-Make-Someone-Happy-When-Theyre-Sad.jpg\n",
      "Reading image: data/Sad\\image-20160914-4963-19knfh1.jpg\n",
      "Reading image: data/Sad\\image-asset.jpeg\n",
      "Reading image: data/Sad\\image18.jpeg\n",
      "Reading image: data/Sad\\isolated-girl-crying-over-makeup-sad-person-concept-isolated-white-174239618.jpg\n",
      "Reading image: data/Sad\\iStock_000001932580XSmall.jpg\n",
      "Reading image: data/Sad\\lonely-depressed-person-sitting-near-brick-wall_181624-30778.jpg\n",
      "Reading image: data/Sad\\Make-someone-sad-happy.jpg\n",
      "Reading image: data/Sad\\man-portrait-contemplative-sad-looking-at-camera-732x549-thumbnail.jpg\n",
      "Reading image: data/Sad\\man-tears-tear-look.jpg\n",
      "Reading image: data/Sad\\man-with-head-down-300x300.jpg\n",
      "Reading image: data/Sad\\mental-health_1200_getty.jpg\n",
      "Reading image: data/Sad\\n-rendering-frustrated-upset-man-sitting-white-people-man-character-53250684.jpg\n",
      "Reading image: data/Sad\\people-1492052_1920-1024x681.jpg\n",
      "Reading image: data/Sad\\person-super-depressed.jpg\n",
      "Reading image: data/Sad\\pexels-photo-4584665.jpeg\n",
      "Reading image: data/Sad\\png-transparent-woman-sad-folklore-ghost-horror-spirit-vendetta-vengeance-girl-person-thumbnail.png\n",
      "Reading image: data/Sad\\portrait-sad-man-260nw-126009806.jpg\n",
      "Reading image: data/Sad\\rtor_guest-blog_fetured-image_Depression-versus-Sadness-How-to-Recognize-and-Cope.jpg\n",
      "Reading image: data/Sad\\sad-glance-mm-nisan-kandilcioglu.jpg\n",
      "Reading image: data/Sad\\sad-looking-man.jpg\n",
      "Reading image: data/Sad\\Sad-man-being-consoled-by-friends-in-group-therapy.jpg\n",
      "Reading image: data/Sad\\sad-man-holding-head-with-hand_1150-6345.jpg\n",
      "Reading image: data/Sad\\Sad-man-sitting-in-bedroom-header.jpg\n",
      "Reading image: data/Sad\\sad-people-group-therapy-session_23-2148752071.jpg\n",
      "Reading image: data/Sad\\sad-people-icon-2CCHXB2.jpg\n",
      "Reading image: data/Sad\\sad-people-vector-26812552.jpg\n",
      "Reading image: data/Sad\\sad-people.jpg\n",
      "Reading image: data/Sad\\sad-person-concept-vector-26538685.jpg\n",
      "Reading image: data/Sad\\sad-person-pictures-2bnso9uiwlhrikrx.jpg\n",
      "Reading image: data/Sad\\sad-quotes-about-life.jpg\n",
      "Reading image: data/Sad\\sad-quotes-lead-image-1677524157.jpg\n",
      "Reading image: data/Sad\\sad-woman.jpg\n",
      "Reading image: data/Sad\\sad.jpg\n",
      "Reading image: data/Sad\\Sadder-not-wiser_AdobeStock_219682170.jpg\n",
      "Reading image: data/Sad\\sadness-inside-out-today-main-tease-191018.jpg\n",
      "Reading image: data/Sad\\sadness.jpg\n",
      "Reading image: data/Sad\\Science_robotgait_124649246.jpg\n",
      "Reading image: data/Sad\\screen-shot-2014-07-31-at-6-09-12-pm.png\n",
      "Reading image: data/Sad\\Seasonal-affective-disorder.png\n",
      "Reading image: data/Sad\\secret-signs-of-loneliness-01-1440x810.jpg\n",
      "Reading image: data/Sad\\strated-depressed-man-sitting-on-plastic-stool-3d-white-people-man-character.jpg\n",
      "Reading image: data/Sad\\sue.jpg\n",
      "Reading image: data/Sad\\upsetman.jpg\n",
      "Reading image: data/Sad\\vector-sad-man-sitting-silhouette.jpg\n",
      "Reading image: data/Sad\\very-sad-man-sitting-alone-on-white-background-depressed-young-man-sitting-businessman-vector.jpg\n",
      "Reading image: data/Sad\\what-successful-people-do-when-they-are-sad-1200x900.jpg\n",
      "Reading image: data/Sad\\what-to-say-to-someone-whos-depressed.jpg\n",
      "Reading image: data/Sad\\_2539df08-4f50-11e6-85e3-522dd231fa74.jpg\n",
      "Folder exists: data/Angry\n",
      "Reading image: data/Angry\\0346f330983a068db0633f96d4a13de873-06-angry.rsquare.w700.jpg\n",
      "Reading image: data/Angry\\118-1183761_angry-person-transparent-images-png-angry-man-png.png\n",
      "Reading image: data/Angry\\118-1183847_angry-person-png-picture.png\n",
      "Reading image: data/Angry\\139-1393790_angry-person-png-pic-angry-man-clipart-png.png\n",
      "Reading image: data/Angry\\1564075.jpg\n",
      "Reading image: data/Angry\\19_1016_DISCIPLESHIP_How-to-Deal-With-Angry-People_1021x640-696x436.jpg\n",
      "Reading image: data/Angry\\32209658.jpg\n",
      "Reading image: data/Angry\\3710928.jpg\n",
      "Reading image: data/Angry\\40-bigstock-Mad-fight-of-business-people-61801940.jpg\n",
      "Reading image: data/Angry\\439-4398363_angry-man-png-pictures-angry-person-png-transparent.png\n",
      "Reading image: data/Angry\\5cd88fd321000035007f6cd2.jpeg\n",
      "Reading image: data/Angry\\60552212-angry-people-illustration-design-collection.jpg\n",
      "Reading image: data/Angry\\68-688804_angry-person-png-images-angry-man-transparent-png.png\n",
      "Reading image: data/Angry\\7-ways-anger-is-ruining-your-health-722x406.jpg\n",
      "Reading image: data/Angry\\800px-Angry-2766265_960_720.jpg\n",
      "Reading image: data/Angry\\ad_220696309.jpg\n",
      "Reading image: data/Angry\\anger-18615_640.jpg\n",
      "Reading image: data/Angry\\anger-can-kill-you-main.jpg\n",
      "Reading image: data/Angry\\Anger_Controlls_Him.jpg\n",
      "Reading image: data/Angry\\anger_ruining_898.jpg\n",
      "Reading image: data/Angry\\angry-children.jpg\n",
      "Reading image: data/Angry\\angry-complaining-group-business-people-260nw-1921199924.jpg\n",
      "Reading image: data/Angry\\angry-customer-86255098-760.jpg\n",
      "Reading image: data/Angry\\Angry-Customer.jpg\n",
      "Reading image: data/Angry\\angry-fury-screaming-people-group-141281176.jpg\n",
      "Reading image: data/Angry\\Angry-man-shouting-and-pointing-to-camera-studio-shot.jpg\n",
      "Reading image: data/Angry\\angry-man-shouting-out-loud-260nw-1417294826.jpg\n",
      "Reading image: data/Angry\\Angry-Man.jpeg\n",
      "Reading image: data/Angry\\angry-man.jpg\n",
      "Reading image: data/Angry\\Angry-people-2.jpg\n",
      "Reading image: data/Angry\\angry-people-arguing-each-others-35811974.jpg\n",
      "Reading image: data/Angry\\angry-people-person-conflict-colleagues-vector-36712317.jpg\n",
      "Reading image: data/Angry\\angry-people-screaming-260nw-292800785.jpg\n",
      "Reading image: data/Angry\\angry-people-screaming-group-men-women-frustrated-shouting-78341909.jpg\n",
      "Reading image: data/Angry\\Angry-people-tend-to-overestimate-their-own-intelligence.jpg\n",
      "Reading image: data/Angry\\Angry-People.jpg\n",
      "Reading image: data/Angry\\angry-person-crowd_23-2148395526.jpg\n",
      "Reading image: data/Angry\\angry-person-crowd_23-2148405067.jpg\n",
      "Reading image: data/Angry\\Angry-Person-PNG-Free-Download.png\n",
      "Reading image: data/Angry\\angry-person-png-free-image-angry-kid-png-transparent-115629678417zic9bd9z6.png\n",
      "Reading image: data/Angry\\Angry-Person-PNG-Photo.png\n",
      "Reading image: data/Angry\\Angry-Person-PNG-Pic.png\n",
      "Reading image: data/Angry\\Angry-Person-PNG-Transparent-Image.png\n",
      "Reading image: data/Angry\\Angry-Person-Transparent-PNG.png\n",
      "Reading image: data/Angry\\angry-person-yelling-crowd_23-2148392541.jpg\n",
      "Reading image: data/Angry\\angry-person.jpg\n",
      "Reading image: data/Angry\\calmangryperson-header.jpg\n",
      "Reading image: data/Angry\\crying-when-angry-1296x728-header.jpg\n",
      "Reading image: data/Angry\\deal-with-angry-person-HSP.jpg\n",
      "Reading image: data/Angry\\depositphotos_42931643-stock-photo-crazy-housewife-with-kitchen-tools.jpg\n",
      "Reading image: data/Angry\\depositphotos_53144077-stock-photo-businesswoman-covering-her-face-with.jpg\n",
      "Reading image: data/Angry\\Depositphotos_6311024_XL-1.jpg\n",
      "Reading image: data/Angry\\face-of-an-asian-angry-man-free-photo.jpg\n",
      "Reading image: data/Angry\\family-three-mother-father-son-260nw-1598501143.jpg\n",
      "Reading image: data/Angry\\flat-of-two-angry-people-vector-18548440.jpg\n",
      "Reading image: data/Angry\\Furious-businessman-talking-to-someone-over-smart-phone-Compressed-496552806.jpeg\n",
      "Reading image: data/Angry\\GettyImages-108328246-1024x683.jpg\n",
      "Reading image: data/Angry\\getty_465251909_970647970450036_71256.jpg\n",
      "Reading image: data/Angry\\group-angry-people-quarrel-argue_107791-13981.jpg\n",
      "Reading image: data/Angry\\group-young-hispanic-people-standing-260nw-2140287687.jpg\n",
      "Reading image: data/Angry\\handling-angry-people.jpg\n",
      "Reading image: data/Angry\\How-Anger-Affects-Health-of-Person.jpg\n",
      "Reading image: data/Angry\\How-To-Communicate-With-Irrational-And-Angry-People.jpg\n",
      "Reading image: data/Angry\\image-abb14c85-dab7-4451-9278-74ef612db2d8.jpg\n",
      "Reading image: data/Angry\\image11.jpeg\n",
      "Reading image: data/Angry\\image17.jpeg\n",
      "Reading image: data/Angry\\image33.jpg\n",
      "Reading image: data/Angry\\images15.jpg\n",
      "Reading image: data/Angry\\images18.jpg\n",
      "Reading image: data/Angry\\images27.jpg\n",
      "Reading image: data/Angry\\iStock_000010998923XSmall.jpg\n",
      "Reading image: data/Angry\\kozzi-439500-couple_pointing_each_other-1774x1183.jpg\n",
      "Reading image: data/Angry\\migration-DealingWithAngryPeopleIMGB1.jpg\n",
      "Reading image: data/Angry\\ng-bed-looking-camera-problem-relationships-angry-people-bad-sleep-149568095.jpg\n",
      "Reading image: data/Angry\\online-video-conference-webinar-angry-people-arguing-shouting-218663860.jpg\n",
      "Reading image: data/Angry\\png-transparent-boxing-man-people-an-angry-person-the-man.png\n",
      "Reading image: data/Angry\\portrait-angry-bearded-man-red-t-shirt-pointing-finger-camera-people-emotions-concept-184711733.jpg\n",
      "Reading image: data/Angry\\shutterstock_307219016.jpg\n",
      "Reading image: data/Angry\\shutterstock_80776702_0.jpg\n",
      "Reading image: data/Angry\\single-angry-person-mobile-phone-260nw-603267953.jpg\n",
      "Reading image: data/Angry\\tile-control-anger-topic_tcm7-302574.png\n",
      "Reading image: data/Angry\\two-angry-business-people-staring-each-other-across-table-31133311.jpg\n",
      "Reading image: data/Angry\\Untitled-design-14-1.png\n",
      "Reading image: data/Angry\\woman-rage-very-angry-dissatisfied-260nw-524205757.jpg\n",
      "Reading image: data/Angry\\YdGPmBa6UZj8pxM95T2ADA-320-80.jpg\n",
      "Reading image: data/Angry\\young-woman-in-knitted-jumper-looks-pensive.jpg\n"
     ]
    }
   ],
   "source": [
    "# مسیر به دیتاست\n",
    "dataset_dir = r'data/'  \n",
    "\n",
    "# اندازه تصویر\n",
    "img_size = 150   # 150*150 پیکسل\n",
    "\n",
    "# لیست‌ها برای ذخیره تصاویر و برچسب‌ها\n",
    "images = []\n",
    "labels = []\n",
    "\n",
    "# لیستی از احساسات صورت انسان \n",
    "emotion_labels = {\n",
    "                   'Happy': 0, 'Sad': 1, 'Angry': 2\n",
    "                   }\n",
    "\n",
    "# بارگذاری تصاویر و برچسب‌ها از پوشه‌های مختلف\n",
    "for emotion, label in emotion_labels.items():\n",
    "    emotion_folder = os.path.join(dataset_dir, emotion)\n",
    "    \n",
    "    # بررسی اینکه پوشه وجود دارد\n",
    "    if os.path.exists(emotion_folder):  # اگر وجود داشته باشد ادامه می دهد\n",
    "        print(f\"Folder exists: {emotion_folder}\")\n",
    "        for img_name in os.listdir(emotion_folder):\n",
    "            img_path = os.path.join(emotion_folder, img_name)\n",
    "            \n",
    "            # چاپ مسیر فایل برای بررسی\n",
    "            print(f\"Reading image: {img_path}\")\n",
    "            \n",
    "            # بارگذاری تصویر\n",
    "            img = cv2.imread(img_path)\n",
    "            \n",
    "            # بررسی اگر تصویر بارگذاری نشد\n",
    "            if img is None:\n",
    "                print(f\"Warning: Image {img_path} could not be loaded.\")\n",
    "                continue  # ادامه می‌دهیم بدون اینکه به آن تصویر پرداخته شود\n",
    "\n",
    "            # تغییر اندازه و نرمال‌سازی\n",
    "            img = cv2.resize(img, (150, 150))  # تغییر اندازه به 150x150\n",
    "            img = img / 255.0  # نرمال‌سازی تصویر\n",
    "            \n",
    "            # افزودن تصویر و برچسب به لیست\n",
    "            images.append(img)\n",
    "            labels.append(label)\n",
    "    \n",
    "# تبدیل لیست‌ها به آرایه NumPy\n",
    "images = np.array(images)\n",
    "labels = np.array(labels)\n",
    "\n",
    "# تبدیل برچسب‌ها به فرمت one-hot\n",
    "labels = to_categorical(labels, num_classes=3)\n",
    "\n",
    "# ذخیره به فرمت pkl\n",
    "with open('emotion_dataset.pkl', 'wb') as f:\n",
    "    pickle.dump((images, labels), f)\n",
    "\n"
   ]
  },
  {
   "cell_type": "markdown",
   "metadata": {},
   "source": [
    "تعداد تصاویر هر پوشه احساس"
   ]
  },
  {
   "cell_type": "code",
   "execution_count": 21,
   "metadata": {},
   "outputs": [
    {
     "name": "stdout",
     "output_type": "stream",
     "text": [
      "Number of images in data/Happy: 100\n",
      "Number of images in data/Sad: 79\n",
      "Number of images in data/Angry: 86\n"
     ]
    }
   ],
   "source": [
    "for emotion in emotion_labels.keys():\n",
    "    emotion_folder = os.path.join(dataset_dir, emotion)\n",
    "    files = os.listdir(emotion_folder)\n",
    "    print(f\"Number of images in {emotion_folder}: {len(files)}\")\n"
   ]
  },
  {
   "cell_type": "markdown",
   "metadata": {},
   "source": [
    "Images shape and Labels shape\n",
    "#train"
   ]
  },
  {
   "cell_type": "code",
   "execution_count": 22,
   "metadata": {},
   "outputs": [
    {
     "name": "stdout",
     "output_type": "stream",
     "text": [
      "Train images shape: (264, 150, 150, 3)\n",
      "Train labels shape: (264, 3)\n"
     ]
    }
   ],
   "source": [
    "# بارگذاری داده‌ها از فایل pkl\n",
    "with open('emotion_dataset.pkl', 'rb') as f:\n",
    "    train_images, train_labels = pickle.load(f)\n",
    "\n",
    "# بررسی ابعاد داده‌ها\n",
    "print(\"Train images shape:\", train_images.shape)\n",
    "print(\"Train labels shape:\", train_labels.shape)\n"
   ]
  },
  {
   "cell_type": "markdown",
   "metadata": {},
   "source": [
    "ساخت مدل cnn"
   ]
  },
  {
   "cell_type": "code",
   "execution_count": 23,
   "metadata": {},
   "outputs": [
    {
     "name": "stderr",
     "output_type": "stream",
     "text": [
      "c:\\Users\\fatem\\AppData\\Local\\Programs\\Python\\Python312\\Lib\\site-packages\\keras\\src\\layers\\convolutional\\base_conv.py:107: UserWarning: Do not pass an `input_shape`/`input_dim` argument to a layer. When using Sequential models, prefer using an `Input(shape)` object as the first layer in the model instead.\n",
      "  super().__init__(activity_regularizer=activity_regularizer, **kwargs)\n"
     ]
    },
    {
     "name": "stdout",
     "output_type": "stream",
     "text": [
      "Epoch 1/10\n",
      "\u001b[1m7/7\u001b[0m \u001b[32m━━━━━━━━━━━━━━━━━━━━\u001b[0m\u001b[37m\u001b[0m \u001b[1m14s\u001b[0m 1s/step - accuracy: 0.4520 - loss: 1.8461 - val_accuracy: 0.0000e+00 - val_loss: 1.8597\n",
      "Epoch 2/10\n",
      "\u001b[1m7/7\u001b[0m \u001b[32m━━━━━━━━━━━━━━━━━━━━\u001b[0m\u001b[37m\u001b[0m \u001b[1m7s\u001b[0m 1s/step - accuracy: 0.4724 - loss: 1.0197 - val_accuracy: 0.0000e+00 - val_loss: 1.8715\n",
      "Epoch 3/10\n",
      "\u001b[1m7/7\u001b[0m \u001b[32m━━━━━━━━━━━━━━━━━━━━\u001b[0m\u001b[37m\u001b[0m \u001b[1m9s\u001b[0m 1s/step - accuracy: 0.5163 - loss: 0.9056 - val_accuracy: 0.0000e+00 - val_loss: 1.7874\n",
      "Epoch 4/10\n",
      "\u001b[1m7/7\u001b[0m \u001b[32m━━━━━━━━━━━━━━━━━━━━\u001b[0m\u001b[37m\u001b[0m \u001b[1m8s\u001b[0m 1s/step - accuracy: 0.7028 - loss: 0.7771 - val_accuracy: 0.0377 - val_loss: 1.9464\n",
      "Epoch 5/10\n",
      "\u001b[1m7/7\u001b[0m \u001b[32m━━━━━━━━━━━━━━━━━━━━\u001b[0m\u001b[37m\u001b[0m \u001b[1m9s\u001b[0m 1s/step - accuracy: 0.8237 - loss: 0.6340 - val_accuracy: 0.0566 - val_loss: 2.6505\n",
      "Epoch 6/10\n",
      "\u001b[1m7/7\u001b[0m \u001b[32m━━━━━━━━━━━━━━━━━━━━\u001b[0m\u001b[37m\u001b[0m \u001b[1m10s\u001b[0m 1s/step - accuracy: 0.7252 - loss: 0.6335 - val_accuracy: 0.1132 - val_loss: 1.9297\n",
      "Epoch 7/10\n",
      "\u001b[1m7/7\u001b[0m \u001b[32m━━━━━━━━━━━━━━━━━━━━\u001b[0m\u001b[37m\u001b[0m \u001b[1m9s\u001b[0m 1s/step - accuracy: 0.8290 - loss: 0.4636 - val_accuracy: 0.3019 - val_loss: 2.0186\n",
      "Epoch 8/10\n",
      "\u001b[1m7/7\u001b[0m \u001b[32m━━━━━━━━━━━━━━━━━━━━\u001b[0m\u001b[37m\u001b[0m \u001b[1m9s\u001b[0m 1s/step - accuracy: 0.8868 - loss: 0.3341 - val_accuracy: 0.1698 - val_loss: 2.9055\n",
      "Epoch 9/10\n",
      "\u001b[1m7/7\u001b[0m \u001b[32m━━━━━━━━━━━━━━━━━━━━\u001b[0m\u001b[37m\u001b[0m \u001b[1m9s\u001b[0m 1s/step - accuracy: 0.9382 - loss: 0.2591 - val_accuracy: 0.1698 - val_loss: 4.4592\n",
      "Epoch 10/10\n",
      "\u001b[1m7/7\u001b[0m \u001b[32m━━━━━━━━━━━━━━━━━━━━\u001b[0m\u001b[37m\u001b[0m \u001b[1m9s\u001b[0m 1s/step - accuracy: 0.9161 - loss: 0.2550 - val_accuracy: 0.3019 - val_loss: 2.8634\n"
     ]
    },
    {
     "data": {
      "text/plain": [
       "<keras.src.callbacks.history.History at 0x2172e015790>"
      ]
     },
     "execution_count": 23,
     "metadata": {},
     "output_type": "execute_result"
    }
   ],
   "source": [
    "# ساخت مدل CNN\n",
    "model = Sequential([\n",
    "    Conv2D(32, (3, 3), activation='relu', input_shape=(150, 150, 3)), MaxPooling2D(2, 2),\n",
    "    \n",
    "    Conv2D(64, (3, 3), activation='relu'), MaxPooling2D(2, 2),\n",
    "    \n",
    "    Conv2D(128, (3, 3), activation='relu'), MaxPooling2D(2, 2),\n",
    "    \n",
    "    Flatten(),\n",
    "    Dense(512, activation='relu'),\n",
    "    Dropout(0.5),\n",
    "    Dense(3, activation='softmax')  # 3 کلاس: angry,happy,sad\n",
    "])\n",
    "\n",
    "# کامپایل کردن مدل\n",
    "model.compile(optimizer=Adam(), loss='categorical_crossentropy', metrics=['accuracy'])\n",
    "\n",
    "# آموزش مدل\n",
    "model.fit(train_images, train_labels, batch_size=32, epochs=10, validation_split=0.2)\n"
   ]
  },
  {
   "cell_type": "code",
   "execution_count": 24,
   "metadata": {},
   "outputs": [],
   "source": [
    "\n",
    "# تقسیم داده‌ها به آموزش و اعتبارسنجی (80% آموزش، 20% اعتبارسنجی)\n",
    "train_images, val_images, train_labels, val_labels = train_test_split(images, labels, test_size=0.2, random_state=42)\n"
   ]
  },
  {
   "cell_type": "code",
   "execution_count": 25,
   "metadata": {},
   "outputs": [
    {
     "name": "stdout",
     "output_type": "stream",
     "text": [
      "Epoch 1/10\n",
      "\u001b[1m7/7\u001b[0m \u001b[32m━━━━━━━━━━━━━━━━━━━━\u001b[0m\u001b[37m\u001b[0m \u001b[1m16s\u001b[0m 2s/step - accuracy: 0.8081 - loss: 0.7567 - val_accuracy: 0.8302 - val_loss: 0.4989\n",
      "Epoch 2/10\n",
      "\u001b[1m7/7\u001b[0m \u001b[32m━━━━━━━━━━━━━━━━━━━━\u001b[0m\u001b[37m\u001b[0m \u001b[1m7s\u001b[0m 985ms/step - accuracy: 0.7987 - loss: 0.5946 - val_accuracy: 0.9245 - val_loss: 0.4189\n",
      "Epoch 3/10\n",
      "\u001b[1m7/7\u001b[0m \u001b[32m━━━━━━━━━━━━━━━━━━━━\u001b[0m\u001b[37m\u001b[0m \u001b[1m7s\u001b[0m 955ms/step - accuracy: 0.9210 - loss: 0.3154 - val_accuracy: 0.8868 - val_loss: 0.4159\n",
      "Epoch 4/10\n",
      "\u001b[1m7/7\u001b[0m \u001b[32m━━━━━━━━━━━━━━━━━━━━\u001b[0m\u001b[37m\u001b[0m \u001b[1m10s\u001b[0m 1s/step - accuracy: 0.9306 - loss: 0.2026 - val_accuracy: 0.8491 - val_loss: 0.3398\n",
      "Epoch 5/10\n",
      "\u001b[1m7/7\u001b[0m \u001b[32m━━━━━━━━━━━━━━━━━━━━\u001b[0m\u001b[37m\u001b[0m \u001b[1m9s\u001b[0m 1s/step - accuracy: 0.9782 - loss: 0.1062 - val_accuracy: 0.8679 - val_loss: 0.3599\n",
      "Epoch 6/10\n",
      "\u001b[1m7/7\u001b[0m \u001b[32m━━━━━━━━━━━━━━━━━━━━\u001b[0m\u001b[37m\u001b[0m \u001b[1m13s\u001b[0m 2s/step - accuracy: 0.9896 - loss: 0.0673 - val_accuracy: 0.8868 - val_loss: 0.4027\n",
      "Epoch 7/10\n",
      "\u001b[1m7/7\u001b[0m \u001b[32m━━━━━━━━━━━━━━━━━━━━\u001b[0m\u001b[37m\u001b[0m \u001b[1m11s\u001b[0m 2s/step - accuracy: 1.0000 - loss: 0.0317 - val_accuracy: 0.8868 - val_loss: 0.3480\n",
      "Epoch 8/10\n",
      "\u001b[1m7/7\u001b[0m \u001b[32m━━━━━━━━━━━━━━━━━━━━\u001b[0m\u001b[37m\u001b[0m \u001b[1m20s\u001b[0m 2s/step - accuracy: 0.9974 - loss: 0.0310 - val_accuracy: 0.8679 - val_loss: 0.3399\n",
      "Epoch 9/10\n",
      "\u001b[1m7/7\u001b[0m \u001b[32m━━━━━━━━━━━━━━━━━━━━\u001b[0m\u001b[37m\u001b[0m \u001b[1m10s\u001b[0m 1s/step - accuracy: 0.9964 - loss: 0.0216 - val_accuracy: 0.8491 - val_loss: 0.4191\n",
      "Epoch 10/10\n",
      "\u001b[1m7/7\u001b[0m \u001b[32m━━━━━━━━━━━━━━━━━━━━\u001b[0m\u001b[37m\u001b[0m \u001b[1m12s\u001b[0m 1s/step - accuracy: 1.0000 - loss: 0.0158 - val_accuracy: 0.8868 - val_loss: 0.3006\n"
     ]
    },
    {
     "data": {
      "text/plain": [
       "<keras.src.callbacks.history.History at 0x2172e015550>"
      ]
     },
     "execution_count": 25,
     "metadata": {},
     "output_type": "execute_result"
    }
   ],
   "source": [
    "model.fit(train_images, train_labels, batch_size=32, epochs=10, validation_data=(val_images, val_labels))\n",
    "#print(\"Train images shape:\", train_images.shape)\n",
    "#print(\"Train labels shape:\", train_labels.shape)"
   ]
  },
  {
   "cell_type": "markdown",
   "metadata": {},
   "source": [
    "محاسبه دقت مدل"
   ]
  },
  {
   "cell_type": "code",
   "execution_count": 26,
   "metadata": {},
   "outputs": [
    {
     "name": "stdout",
     "output_type": "stream",
     "text": [
      "\u001b[1m2/2\u001b[0m \u001b[32m━━━━━━━━━━━━━━━━━━━━\u001b[0m\u001b[37m\u001b[0m \u001b[1m1s\u001b[0m 174ms/step - accuracy: 0.8829 - loss: 0.3137\n",
      "Validation Accuracy: 88.68%\n"
     ]
    }
   ],
   "source": [
    "loss, accuracy = model.evaluate(val_images, val_labels)\n",
    "print(f\"Validation Accuracy: {accuracy * 100:.2f}%\")\n"
   ]
  },
  {
   "cell_type": "markdown",
   "metadata": {},
   "source": [
    "ذخیره سازی مدل"
   ]
  },
  {
   "cell_type": "code",
   "execution_count": 27,
   "metadata": {},
   "outputs": [
    {
     "name": "stderr",
     "output_type": "stream",
     "text": [
      "WARNING:absl:You are saving your model as an HDF5 file via `model.save()` or `keras.saving.save_model(model)`. This file format is considered legacy. We recommend using instead the native Keras format, e.g. `model.save('my_model.keras')` or `keras.saving.save_model(model, 'my_model.keras')`. \n"
     ]
    }
   ],
   "source": [
    "model.save('emotion_model.h5')\n"
   ]
  },
  {
   "cell_type": "markdown",
   "metadata": {},
   "source": [
    "نمودار"
   ]
  },
  {
   "cell_type": "code",
   "execution_count": 28,
   "metadata": {},
   "outputs": [
    {
     "name": "stdout",
     "output_type": "stream",
     "text": [
      "Epoch 1/10\n",
      "\u001b[1m7/7\u001b[0m \u001b[32m━━━━━━━━━━━━━━━━━━━━\u001b[0m\u001b[37m\u001b[0m \u001b[1m16s\u001b[0m 2s/step - accuracy: 0.9892 - loss: 0.0249 - val_accuracy: 0.8868 - val_loss: 0.4367\n",
      "Epoch 2/10\n",
      "\u001b[1m7/7\u001b[0m \u001b[32m━━━━━━━━━━━━━━━━━━━━\u001b[0m\u001b[37m\u001b[0m \u001b[1m11s\u001b[0m 1s/step - accuracy: 1.0000 - loss: 0.0081 - val_accuracy: 0.8302 - val_loss: 0.5723\n",
      "Epoch 3/10\n",
      "\u001b[1m7/7\u001b[0m \u001b[32m━━━━━━━━━━━━━━━━━━━━\u001b[0m\u001b[37m\u001b[0m \u001b[1m19s\u001b[0m 1s/step - accuracy: 1.0000 - loss: 0.0083 - val_accuracy: 0.8491 - val_loss: 0.4584\n",
      "Epoch 4/10\n",
      "\u001b[1m7/7\u001b[0m \u001b[32m━━━━━━━━━━━━━━━━━━━━\u001b[0m\u001b[37m\u001b[0m \u001b[1m7s\u001b[0m 955ms/step - accuracy: 1.0000 - loss: 0.0045 - val_accuracy: 0.8679 - val_loss: 0.5035\n",
      "Epoch 5/10\n",
      "\u001b[1m7/7\u001b[0m \u001b[32m━━━━━━━━━━━━━━━━━━━━\u001b[0m\u001b[37m\u001b[0m \u001b[1m12s\u001b[0m 2s/step - accuracy: 1.0000 - loss: 0.0038 - val_accuracy: 0.8679 - val_loss: 0.5220\n",
      "Epoch 6/10\n",
      "\u001b[1m7/7\u001b[0m \u001b[32m━━━━━━━━━━━━━━━━━━━━\u001b[0m\u001b[37m\u001b[0m \u001b[1m9s\u001b[0m 1s/step - accuracy: 1.0000 - loss: 0.0063 - val_accuracy: 0.8302 - val_loss: 0.5888\n",
      "Epoch 7/10\n",
      "\u001b[1m7/7\u001b[0m \u001b[32m━━━━━━━━━━━━━━━━━━━━\u001b[0m\u001b[37m\u001b[0m \u001b[1m10s\u001b[0m 1s/step - accuracy: 1.0000 - loss: 0.0052 - val_accuracy: 0.8491 - val_loss: 0.5603\n",
      "Epoch 8/10\n",
      "\u001b[1m7/7\u001b[0m \u001b[32m━━━━━━━━━━━━━━━━━━━━\u001b[0m\u001b[37m\u001b[0m \u001b[1m20s\u001b[0m 1s/step - accuracy: 1.0000 - loss: 0.0049 - val_accuracy: 0.8679 - val_loss: 0.5398\n",
      "Epoch 9/10\n",
      "\u001b[1m7/7\u001b[0m \u001b[32m━━━━━━━━━━━━━━━━━━━━\u001b[0m\u001b[37m\u001b[0m \u001b[1m10s\u001b[0m 1s/step - accuracy: 1.0000 - loss: 0.0052 - val_accuracy: 0.8679 - val_loss: 0.5566\n",
      "Epoch 10/10\n",
      "\u001b[1m7/7\u001b[0m \u001b[32m━━━━━━━━━━━━━━━━━━━━\u001b[0m\u001b[37m\u001b[0m \u001b[1m10s\u001b[0m 1s/step - accuracy: 1.0000 - loss: 0.0018 - val_accuracy: 0.8491 - val_loss: 0.5816\n"
     ]
    }
   ],
   "source": [
    "history = model.fit(train_images, train_labels, batch_size=32, epochs=10, validation_data=(val_images, val_labels))\n"
   ]
  },
  {
   "cell_type": "code",
   "execution_count": 29,
   "metadata": {},
   "outputs": [
    {
     "data": {
      "image/png": "[encoded data removed]",
      "text/plain": [
       "<Figure size 1200x600 with 2 Axes>"
      ]
     },
     "metadata": {},
     "output_type": "display_data"
    }
   ],
   "source": [
    "\n",
    "# رسم نمودار دقت\n",
    "plt.figure(figsize=(12, 6))\n",
    "\n",
    "# دقت آموزش و اعتبارسنجی\n",
    "plt.subplot(1, 2, 1)\n",
    "plt.plot(history.history['accuracy'], label='Training Accuracy')\n",
    "plt.plot(history.history['val_accuracy'], label='Validation Accuracy')\n",
    "plt.title('Accuracy over Epochs')\n",
    "plt.xlabel('Epochs')\n",
    "plt.ylabel('Accuracy')\n",
    "plt.legend()\n",
    "\n",
    "# رسم نمودار از دست دادن\n",
    "plt.subplot(1, 2, 2)\n",
    "plt.plot(history.history['loss'], label='Training Loss')\n",
    "plt.plot(history.history['val_loss'], label='Validation Loss')\n",
    "plt.title('Loss over Epochs')\n",
    "plt.xlabel('Epochs')\n",
    "plt.ylabel('Loss')\n",
    "plt.legend()\n",
    "\n",
    "# نمایش نمودارها\n",
    "plt.tight_layout()\n",
    "plt.show()\n"
   ]
  }
 ],
 "metadata": {
  "kernelspec": {
   "display_name": "Python 3",
   "language": "python",
   "name": "python3"
  },
  "language_info": {
   "codemirror_mode": {
    "name": "ipython",
    "version": 3
   },
   "file_extension": ".py",
   "mimetype": "text/x-python",
   "name": "python",
   "nbconvert_exporter": "python",
   "pygments_lexer": "ipython3",
   "version": "3.13.0"
  }
 },
 "nbformat": 4,
 "nbformat_minor": 2
}
