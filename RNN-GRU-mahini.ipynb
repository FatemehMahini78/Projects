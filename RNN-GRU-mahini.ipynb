{
 "cells": [
  {
   "cell_type": "markdown",
   "metadata": {},
   "source": [
    "کتابخانه های مورد نیاز"
   ]
  },
  {
   "cell_type": "markdown",
   "metadata": {},
   "source": [
    "دانلود دیتاست مورد استفاده:   https://www.mediafire.com/file/j03djpy140rno4d/data.rar/file"
   ]
  },
  {
   "cell_type": "code",
   "execution_count": 1,
   "metadata": {},
   "outputs": [],
   "source": [
    "import os\n",
    "import cv2\n",
    "import numpy as np\n",
    "from tensorflow.keras.models import Sequential\n",
    "from tensorflow.keras.layers import GRU, Dense, Dropout\n",
    "from tensorflow.keras.utils import to_categorical\n",
    "from sklearn.model_selection import train_test_split\n",
    "from tensorflow.keras.callbacks import ReduceLROnPlateau\n",
    "import matplotlib.pyplot as plt\n",
    "\n",
    "from PIL import Image \n",
    "import random\n",
    "import tensorflow as tf  \n"
   ]
  },
  {
   "cell_type": "markdown",
   "metadata": {},
   "source": [
    "به جهت ثابت نگه داشتن دقت"
   ]
  },
  {
   "cell_type": "code",
   "execution_count": 2,
   "metadata": {},
   "outputs": [],
   "source": [
    "seed_value = 42\n",
    "np.random.seed(seed_value)  \n",
    "random.seed(seed_value)  \n",
    "tf.random.set_seed(seed_value) "
   ]
  },
  {
   "cell_type": "markdown",
   "metadata": {},
   "source": [
    "وارد کردن دیتاست"
   ]
  },
  {
   "cell_type": "code",
   "execution_count": 3,
   "metadata": {},
   "outputs": [],
   "source": [
    "data_dir = \"data\"  \n",
    "categories = os.listdir(data_dir) "
   ]
  },
  {
   "cell_type": "markdown",
   "metadata": {},
   "source": [
    "داده‌ها و برچسب‌ها "
   ]
  },
  {
   "cell_type": "code",
   "execution_count": 4,
   "metadata": {},
   "outputs": [],
   "source": [
    "images = []\n",
    "labels = []"
   ]
  },
  {
   "cell_type": "markdown",
   "metadata": {},
   "source": [
    "فرمت‌های تصویری پشتیبانی‌شده"
   ]
  },
  {
   "cell_type": "code",
   "execution_count": 5,
   "metadata": {},
   "outputs": [],
   "source": [
    "valid_formats = ('.jpg', '.png', '.gif', '.jpeg')"
   ]
  },
  {
   "cell_type": "markdown",
   "metadata": {},
   "source": [
    "تعداد تصاویر در هر پوشه"
   ]
  },
  {
   "cell_type": "code",
   "execution_count": 6,
   "metadata": {},
   "outputs": [
    {
     "name": "stdout",
     "output_type": "stream",
     "text": [
      "Number_Images_'Angry' : 86 images.\n",
      "Number_Images_'Happy' : 100 images.\n",
      "Number_Images_'Sad' : 79 images.\n"
     ]
    }
   ],
   "source": [
    "for category in categories:  \n",
    "    category_path = os.path.join(data_dir, category)\n",
    "    image_count = len([file for file in os.listdir(category_path) if file.lower().endswith(valid_formats)])\n",
    "    print(f\"Number_Images_'{category}' : {image_count} images.\")\n"
   ]
  },
  {
   "cell_type": "markdown",
   "metadata": {},
   "source": [
    "تعداد فرمت های تصاویر برای هر احساس"
   ]
  },
  {
   "cell_type": "code",
   "execution_count": 7,
   "metadata": {},
   "outputs": [
    {
     "name": "stdout",
     "output_type": "stream",
     "text": [
      "Emotion: 'Angry'\n",
      "  .jpg:  67\n",
      "  .png:  14\n",
      "  .gif:  0\n",
      "  .jpeg:  5\n",
      "Emotion: 'Happy'\n",
      "  .jpg:  80\n",
      "  .png:  8\n",
      "  .gif:  0\n",
      "  .jpeg:  12\n",
      "Emotion: 'Sad'\n",
      "  .jpg:  69\n",
      "  .png:  4\n",
      "  .gif:  1\n",
      "  .jpeg:  5\n"
     ]
    }
   ],
   "source": [
    "for category in categories:\n",
    "    category_path = os.path.join(data_dir, category)\n",
    "    format_count = {ext: 0 for ext in valid_formats}\n",
    "    \n",
    "    for file in os.listdir(category_path):\n",
    "        file_lower = file.lower()\n",
    "        for ext in valid_formats:\n",
    "            if file_lower.endswith(ext):\n",
    "                format_count[ext] += 1\n",
    "\n",
    "    print(f\"Emotion: '{category}'\")\n",
    "    for ext, count in format_count.items():\n",
    "        print(f\"  {ext}:  {count}\")\n"
   ]
  },
  {
   "cell_type": "markdown",
   "metadata": {},
   "source": [
    "تغییر سایز"
   ]
  },
  {
   "cell_type": "code",
   "execution_count": 8,
   "metadata": {},
   "outputs": [],
   "source": [
    "img_size = 32"
   ]
  },
  {
   "cell_type": "markdown",
   "metadata": {},
   "source": [
    "بارگذاری و پردازش تصاویر"
   ]
  },
  {
   "cell_type": "code",
   "execution_count": 9,
   "metadata": {},
   "outputs": [],
   "source": [
    "for label, category in enumerate(categories):  \n",
    "    category_path = os.path.join(data_dir, category)  \n",
    "    for file in os.listdir(category_path):  \n",
    "        if file.lower().endswith(valid_formats):  \n",
    "            file_path = os.path.join(category_path, file)  \n",
    "            try:  \n",
    "                if file.lower().endswith('.gif'):  \n",
    "                    img = Image.open(file_path)  # بارگذاری GIFها با استفاده از Pillow  \n",
    "                    img = img.convert('RGB')  # تبدیل به فرمت RGB  \n",
    "                    img_resized = img.resize((img_size, img_size), Image.LANCZOS)  # تغییر اندازه با آنتی‌الیزینگ  \n",
    "                    img_resized = cv2.cvtColor(np.array(img_resized), cv2.COLOR_RGB2BGR)  # تبدیل به فرمت OpenCV  \n",
    "                else:  \n",
    "                    img = cv2.imread(file_path, cv2.IMREAD_COLOR)  # بارگذاری سایر تصاویر با OpenCV  \n",
    "                    if img is not None:  \n",
    "                        img_resized = cv2.resize(img, (img_size, img_size))  \n",
    "\n",
    "                images.append(img_resized)  # اضافه کردن تصویر تغییر اندازه داده شده  \n",
    "                labels.append(label)          # اضافه کردن برچسب  \n",
    "            except Exception as e:  \n",
    "                print(f\"Error processing {file_path}: {e}\")"
   ]
  },
  {
   "cell_type": "markdown",
   "metadata": {},
   "source": [
    " و نرمال سازی تبدیل به آرایه numpy "
   ]
  },
  {
   "cell_type": "code",
   "execution_count": 10,
   "metadata": {},
   "outputs": [],
   "source": [
    "images = np.array(images) / 255.0  \n",
    "labels = np.array(labels)"
   ]
  },
  {
   "cell_type": "markdown",
   "metadata": {},
   "source": [
    "ورود لیبل ها به صورت one hot"
   ]
  },
  {
   "cell_type": "code",
   "execution_count": 11,
   "metadata": {},
   "outputs": [],
   "source": [
    "labels = to_categorical(labels, num_classes=len(categories))"
   ]
  },
  {
   "cell_type": "markdown",
   "metadata": {},
   "source": [
    "تقسیم داده‌های آموزشی و آزمایشی"
   ]
  },
  {
   "cell_type": "code",
   "execution_count": 12,
   "metadata": {},
   "outputs": [],
   "source": [
    "X_train, X_test, y_train, y_test = train_test_split(images, labels, test_size=0.2, random_state=42)"
   ]
  },
  {
   "cell_type": "markdown",
   "metadata": {},
   "source": [
    "تغییر شکل تصاویر برای ورود به RNN"
   ]
  },
  {
   "cell_type": "code",
   "execution_count": 13,
   "metadata": {},
   "outputs": [],
   "source": [
    "X_train = X_train.reshape(X_train.shape[0], 1, img_size * img_size * 3)  \n",
    "X_test = X_test.reshape(X_test.shape[0], 1, img_size * img_size * 3)"
   ]
  },
  {
   "cell_type": "code",
   "execution_count": 14,
   "metadata": {},
   "outputs": [
    {
     "name": "stdout",
     "output_type": "stream",
     "text": [
      "Shape of X_train: (212, 1, 3072)\n",
      "Shape of y_train: (212, 3)\n"
     ]
    }
   ],
   "source": [
    "print(f\"Shape of X_train: {X_train.shape}\")\n",
    "print(f\"Shape of y_train: {y_train.shape}\")"
   ]
  },
  {
   "cell_type": "markdown",
   "metadata": {},
   "source": [
    "یکسان سازی شکل "
   ]
  },
  {
   "cell_type": "code",
   "execution_count": 15,
   "metadata": {},
   "outputs": [],
   "source": [
    "y_train = y_train.reshape(y_train.shape[0], -1)\n",
    "y_test = y_test.reshape(y_test.shape[0], -1)"
   ]
  },
  {
   "cell_type": "markdown",
   "metadata": {},
   "source": [
    "ساخت مدل RNN_GRU"
   ]
  },
  {
   "cell_type": "code",
   "execution_count": 16,
   "metadata": {},
   "outputs": [
    {
     "name": "stderr",
     "output_type": "stream",
     "text": [
      "c:\\Users\\fatem\\AppData\\Local\\Programs\\Python\\Python312\\Lib\\site-packages\\keras\\src\\layers\\rnn\\rnn.py:204: UserWarning: Do not pass an `input_shape`/`input_dim` argument to a layer. When using Sequential models, prefer using an `Input(shape)` object as the first layer in the model instead.\n",
      "  super().__init__(**kwargs)\n"
     ]
    }
   ],
   "source": [
    "model = Sequential()\n",
    "model.add(GRU(128, input_shape=(1, img_size * img_size * 3), return_sequences=False))\n",
    "model.add(Dropout(0.4))\n",
    "model.add(Dense(64, activation='relu'))\n",
    "model.add(Dropout(0.4))\n",
    "model.add(Dense(len(categories), activation='softmax'))\n"
   ]
  },
  {
   "cell_type": "markdown",
   "metadata": {},
   "source": [
    "کامپایل مدل"
   ]
  },
  {
   "cell_type": "code",
   "execution_count": 17,
   "metadata": {},
   "outputs": [],
   "source": [
    "model.compile(optimizer='adam', loss='categorical_crossentropy', metrics=['accuracy'])"
   ]
  },
  {
   "cell_type": "markdown",
   "metadata": {},
   "source": [
    "حذف بعد اضافی از y_train و y_test"
   ]
  },
  {
   "cell_type": "code",
   "execution_count": 18,
   "metadata": {},
   "outputs": [
    {
     "name": "stdout",
     "output_type": "stream",
     "text": [
      "y_train shape after reshape: (212, 3)\n"
     ]
    }
   ],
   "source": [
    "y_train = y_train.reshape(y_train.shape[0], -1)\n",
    "y_test = y_test.reshape(y_test.shape[0], -1)\n",
    "\n",
    "print(f\"y_train shape after reshape: {y_train.shape}\")"
   ]
  },
  {
   "cell_type": "markdown",
   "metadata": {},
   "source": [
    "آموزش مدل"
   ]
  },
  {
   "cell_type": "code",
   "execution_count": 19,
   "metadata": {},
   "outputs": [
    {
     "name": "stdout",
     "output_type": "stream",
     "text": [
      "Epoch 1/90\n",
      "\u001b[1m7/7\u001b[0m \u001b[32m━━━━━━━━━━━━━━━━━━━━\u001b[0m\u001b[37m\u001b[0m \u001b[1m25s\u001b[0m 2s/step - accuracy: 0.2610 - loss: 1.7195 - val_accuracy: 0.3962 - val_loss: 1.2648 - learning_rate: 0.0010\n",
      "Epoch 2/90\n",
      "\u001b[1m7/7\u001b[0m \u001b[32m━━━━━━━━━━━━━━━━━━━━\u001b[0m\u001b[37m\u001b[0m \u001b[1m2s\u001b[0m 210ms/step - accuracy: 0.3509 - loss: 1.1862 - val_accuracy: 0.3774 - val_loss: 1.1209 - learning_rate: 0.0010\n",
      "Epoch 3/90\n",
      "\u001b[1m7/7\u001b[0m \u001b[32m━━━━━━━━━━━━━━━━━━━━\u001b[0m\u001b[37m\u001b[0m \u001b[1m2s\u001b[0m 231ms/step - accuracy: 0.4138 - loss: 1.1926 - val_accuracy: 0.3774 - val_loss: 1.0880 - learning_rate: 0.0010\n",
      "Epoch 4/90\n",
      "\u001b[1m7/7\u001b[0m \u001b[32m━━━━━━━━━━━━━━━━━━━━\u001b[0m\u001b[37m\u001b[0m \u001b[1m3s\u001b[0m 280ms/step - accuracy: 0.3053 - loss: 1.2040 - val_accuracy: 0.3585 - val_loss: 1.0957 - learning_rate: 0.0010\n",
      "Epoch 5/90\n",
      "\u001b[1m7/7\u001b[0m \u001b[32m━━━━━━━━━━━━━━━━━━━━\u001b[0m\u001b[37m\u001b[0m \u001b[1m2s\u001b[0m 208ms/step - accuracy: 0.3670 - loss: 1.1394 - val_accuracy: 0.3585 - val_loss: 1.1073 - learning_rate: 0.0010\n",
      "Epoch 6/90\n",
      "\u001b[1m7/7\u001b[0m \u001b[32m━━━━━━━━━━━━━━━━━━━━\u001b[0m\u001b[37m\u001b[0m \u001b[1m2s\u001b[0m 185ms/step - accuracy: 0.3854 - loss: 1.1026 - val_accuracy: 0.2453 - val_loss: 1.1089 - learning_rate: 0.0010\n",
      "Epoch 7/90\n",
      "\u001b[1m7/7\u001b[0m \u001b[32m━━━━━━━━━━━━━━━━━━━━\u001b[0m\u001b[37m\u001b[0m \u001b[1m1s\u001b[0m 107ms/step - accuracy: 0.3586 - loss: 1.1367 - val_accuracy: 0.3019 - val_loss: 1.1113 - learning_rate: 0.0010\n",
      "Epoch 8/90\n",
      "\u001b[1m7/7\u001b[0m \u001b[32m━━━━━━━━━━━━━━━━━━━━\u001b[0m\u001b[37m\u001b[0m \u001b[1m1s\u001b[0m 146ms/step - accuracy: 0.3492 - loss: 1.0991 - val_accuracy: 0.4340 - val_loss: 1.0876 - learning_rate: 0.0010\n",
      "Epoch 9/90\n",
      "\u001b[1m7/7\u001b[0m \u001b[32m━━━━━━━━━━━━━━━━━━━━\u001b[0m\u001b[37m\u001b[0m \u001b[1m0s\u001b[0m 29ms/step - accuracy: 0.4102 - loss: 1.1040 - val_accuracy: 0.2830 - val_loss: 1.1131 - learning_rate: 0.0010\n",
      "Epoch 10/90\n",
      "\u001b[1m7/7\u001b[0m \u001b[32m━━━━━━━━━━━━━━━━━━━━\u001b[0m\u001b[37m\u001b[0m \u001b[1m0s\u001b[0m 25ms/step - accuracy: 0.4089 - loss: 1.0717 - val_accuracy: 0.3208 - val_loss: 1.1003 - learning_rate: 0.0010\n",
      "Epoch 11/90\n",
      "\u001b[1m7/7\u001b[0m \u001b[32m━━━━━━━━━━━━━━━━━━━━\u001b[0m\u001b[37m\u001b[0m \u001b[1m0s\u001b[0m 23ms/step - accuracy: 0.3977 - loss: 1.1376 - val_accuracy: 0.3962 - val_loss: 1.0876 - learning_rate: 0.0010\n",
      "Epoch 12/90\n",
      "\u001b[1m7/7\u001b[0m \u001b[32m━━━━━━━━━━━━━━━━━━━━\u001b[0m\u001b[37m\u001b[0m \u001b[1m0s\u001b[0m 16ms/step - accuracy: 0.4687 - loss: 1.0561 - val_accuracy: 0.3585 - val_loss: 1.0830 - learning_rate: 0.0010\n",
      "Epoch 13/90\n",
      "\u001b[1m7/7\u001b[0m \u001b[32m━━━━━━━━━━━━━━━━━━━━\u001b[0m\u001b[37m\u001b[0m \u001b[1m0s\u001b[0m 23ms/step - accuracy: 0.4033 - loss: 1.0666 - val_accuracy: 0.3396 - val_loss: 1.0903 - learning_rate: 0.0010\n",
      "Epoch 14/90\n",
      "\u001b[1m7/7\u001b[0m \u001b[32m━━━━━━━━━━━━━━━━━━━━\u001b[0m\u001b[37m\u001b[0m \u001b[1m0s\u001b[0m 21ms/step - accuracy: 0.4450 - loss: 1.0437 - val_accuracy: 0.4906 - val_loss: 1.0556 - learning_rate: 0.0010\n",
      "Epoch 15/90\n",
      "\u001b[1m7/7\u001b[0m \u001b[32m━━━━━━━━━━━━━━━━━━━━\u001b[0m\u001b[37m\u001b[0m \u001b[1m0s\u001b[0m 20ms/step - accuracy: 0.4457 - loss: 1.0330 - val_accuracy: 0.5472 - val_loss: 1.0441 - learning_rate: 0.0010\n",
      "Epoch 16/90\n",
      "\u001b[1m7/7\u001b[0m \u001b[32m━━━━━━━━━━━━━━━━━━━━\u001b[0m\u001b[37m\u001b[0m \u001b[1m0s\u001b[0m 21ms/step - accuracy: 0.4426 - loss: 1.0487 - val_accuracy: 0.4717 - val_loss: 1.0547 - learning_rate: 0.0010\n",
      "Epoch 17/90\n",
      "\u001b[1m7/7\u001b[0m \u001b[32m━━━━━━━━━━━━━━━━━━━━\u001b[0m\u001b[37m\u001b[0m \u001b[1m0s\u001b[0m 18ms/step - accuracy: 0.4423 - loss: 1.0607 - val_accuracy: 0.3774 - val_loss: 1.0701 - learning_rate: 0.0010\n",
      "Epoch 18/90\n",
      "\u001b[1m7/7\u001b[0m \u001b[32m━━━━━━━━━━━━━━━━━━━━\u001b[0m\u001b[37m\u001b[0m \u001b[1m0s\u001b[0m 19ms/step - accuracy: 0.4450 - loss: 1.0368 - val_accuracy: 0.4340 - val_loss: 1.0535 - learning_rate: 0.0010\n",
      "Epoch 19/90\n",
      "\u001b[1m7/7\u001b[0m \u001b[32m━━━━━━━━━━━━━━━━━━━━\u001b[0m\u001b[37m\u001b[0m \u001b[1m0s\u001b[0m 22ms/step - accuracy: 0.4867 - loss: 1.0244 - val_accuracy: 0.5283 - val_loss: 1.0395 - learning_rate: 0.0010\n",
      "Epoch 20/90\n",
      "\u001b[1m7/7\u001b[0m \u001b[32m━━━━━━━━━━━━━━━━━━━━\u001b[0m\u001b[37m\u001b[0m \u001b[1m0s\u001b[0m 18ms/step - accuracy: 0.4653 - loss: 1.0356 - val_accuracy: 0.4151 - val_loss: 1.0556 - learning_rate: 0.0010\n",
      "Epoch 21/90\n",
      "\u001b[1m7/7\u001b[0m \u001b[32m━━━━━━━━━━━━━━━━━━━━\u001b[0m\u001b[37m\u001b[0m \u001b[1m0s\u001b[0m 22ms/step - accuracy: 0.4670 - loss: 1.0143 - val_accuracy: 0.4906 - val_loss: 1.0491 - learning_rate: 0.0010\n",
      "Epoch 22/90\n",
      "\u001b[1m7/7\u001b[0m \u001b[32m━━━━━━━━━━━━━━━━━━━━\u001b[0m\u001b[37m\u001b[0m \u001b[1m0s\u001b[0m 20ms/step - accuracy: 0.4697 - loss: 0.9768 - val_accuracy: 0.5660 - val_loss: 0.9963 - learning_rate: 0.0010\n",
      "Epoch 23/90\n",
      "\u001b[1m7/7\u001b[0m \u001b[32m━━━━━━━━━━━━━━━━━━━━\u001b[0m\u001b[37m\u001b[0m \u001b[1m0s\u001b[0m 19ms/step - accuracy: 0.5562 - loss: 0.9314 - val_accuracy: 0.5849 - val_loss: 1.0006 - learning_rate: 0.0010\n",
      "Epoch 24/90\n",
      "\u001b[1m7/7\u001b[0m \u001b[32m━━━━━━━━━━━━━━━━━━━━\u001b[0m\u001b[37m\u001b[0m \u001b[1m0s\u001b[0m 17ms/step - accuracy: 0.6054 - loss: 0.9078 - val_accuracy: 0.6038 - val_loss: 0.9888 - learning_rate: 0.0010\n",
      "Epoch 25/90\n",
      "\u001b[1m7/7\u001b[0m \u001b[32m━━━━━━━━━━━━━━━━━━━━\u001b[0m\u001b[37m\u001b[0m \u001b[1m0s\u001b[0m 19ms/step - accuracy: 0.5730 - loss: 0.8836 - val_accuracy: 0.5283 - val_loss: 1.0214 - learning_rate: 0.0010\n",
      "Epoch 26/90\n",
      "\u001b[1m7/7\u001b[0m \u001b[32m━━━━━━━━━━━━━━━━━━━━\u001b[0m\u001b[37m\u001b[0m \u001b[1m0s\u001b[0m 21ms/step - accuracy: 0.5881 - loss: 0.8834 - val_accuracy: 0.6038 - val_loss: 0.9752 - learning_rate: 0.0010\n",
      "Epoch 27/90\n",
      "\u001b[1m7/7\u001b[0m \u001b[32m━━━━━━━━━━━━━━━━━━━━\u001b[0m\u001b[37m\u001b[0m \u001b[1m0s\u001b[0m 22ms/step - accuracy: 0.5094 - loss: 0.9826 - val_accuracy: 0.5283 - val_loss: 0.9927 - learning_rate: 0.0010\n",
      "Epoch 28/90\n",
      "\u001b[1m7/7\u001b[0m \u001b[32m━━━━━━━━━━━━━━━━━━━━\u001b[0m\u001b[37m\u001b[0m \u001b[1m0s\u001b[0m 17ms/step - accuracy: 0.5669 - loss: 0.8938 - val_accuracy: 0.5849 - val_loss: 0.9680 - learning_rate: 0.0010\n",
      "Epoch 29/90\n",
      "\u001b[1m7/7\u001b[0m \u001b[32m━━━━━━━━━━━━━━━━━━━━\u001b[0m\u001b[37m\u001b[0m \u001b[1m0s\u001b[0m 20ms/step - accuracy: 0.6225 - loss: 0.8543 - val_accuracy: 0.6226 - val_loss: 0.9686 - learning_rate: 0.0010\n",
      "Epoch 30/90\n",
      "\u001b[1m7/7\u001b[0m \u001b[32m━━━━━━━━━━━━━━━━━━━━\u001b[0m\u001b[37m\u001b[0m \u001b[1m0s\u001b[0m 19ms/step - accuracy: 0.5913 - loss: 0.8990 - val_accuracy: 0.5849 - val_loss: 0.9629 - learning_rate: 0.0010\n",
      "Epoch 31/90\n",
      "\u001b[1m7/7\u001b[0m \u001b[32m━━━━━━━━━━━━━━━━━━━━\u001b[0m\u001b[37m\u001b[0m \u001b[1m0s\u001b[0m 23ms/step - accuracy: 0.6304 - loss: 0.8592 - val_accuracy: 0.5472 - val_loss: 0.9614 - learning_rate: 0.0010\n",
      "Epoch 32/90\n",
      "\u001b[1m7/7\u001b[0m \u001b[32m━━━━━━━━━━━━━━━━━━━━\u001b[0m\u001b[37m\u001b[0m \u001b[1m0s\u001b[0m 18ms/step - accuracy: 0.6242 - loss: 0.8736 - val_accuracy: 0.6415 - val_loss: 0.9356 - learning_rate: 0.0010\n",
      "Epoch 33/90\n",
      "\u001b[1m7/7\u001b[0m \u001b[32m━━━━━━━━━━━━━━━━━━━━\u001b[0m\u001b[37m\u001b[0m \u001b[1m0s\u001b[0m 20ms/step - accuracy: 0.6468 - loss: 0.7964 - val_accuracy: 0.5472 - val_loss: 0.9734 - learning_rate: 0.0010\n",
      "Epoch 34/90\n",
      "\u001b[1m7/7\u001b[0m \u001b[32m━━━━━━━━━━━━━━━━━━━━\u001b[0m\u001b[37m\u001b[0m \u001b[1m0s\u001b[0m 20ms/step - accuracy: 0.5887 - loss: 0.8557 - val_accuracy: 0.5283 - val_loss: 0.9597 - learning_rate: 0.0010\n",
      "Epoch 35/90\n",
      "\u001b[1m7/7\u001b[0m \u001b[32m━━━━━━━━━━━━━━━━━━━━\u001b[0m\u001b[37m\u001b[0m \u001b[1m0s\u001b[0m 21ms/step - accuracy: 0.6636 - loss: 0.8045 - val_accuracy: 0.6038 - val_loss: 0.9543 - learning_rate: 0.0010\n",
      "Epoch 36/90\n",
      "\u001b[1m7/7\u001b[0m \u001b[32m━━━━━━━━━━━━━━━━━━━━\u001b[0m\u001b[37m\u001b[0m \u001b[1m0s\u001b[0m 23ms/step - accuracy: 0.6598 - loss: 0.7692 - val_accuracy: 0.5849 - val_loss: 0.9629 - learning_rate: 0.0010\n",
      "Epoch 37/90\n",
      "\u001b[1m7/7\u001b[0m \u001b[32m━━━━━━━━━━━━━━━━━━━━\u001b[0m\u001b[37m\u001b[0m \u001b[1m0s\u001b[0m 21ms/step - accuracy: 0.6148 - loss: 0.8128 - val_accuracy: 0.6604 - val_loss: 0.8415 - learning_rate: 0.0010\n",
      "Epoch 38/90\n",
      "\u001b[1m7/7\u001b[0m \u001b[32m━━━━━━━━━━━━━━━━━━━━\u001b[0m\u001b[37m\u001b[0m \u001b[1m0s\u001b[0m 21ms/step - accuracy: 0.6671 - loss: 0.7902 - val_accuracy: 0.6038 - val_loss: 0.9395 - learning_rate: 0.0010\n",
      "Epoch 39/90\n",
      "\u001b[1m7/7\u001b[0m \u001b[32m━━━━━━━━━━━━━━━━━━━━\u001b[0m\u001b[37m\u001b[0m \u001b[1m0s\u001b[0m 18ms/step - accuracy: 0.6327 - loss: 0.7726 - val_accuracy: 0.6226 - val_loss: 0.8787 - learning_rate: 0.0010\n",
      "Epoch 40/90\n",
      "\u001b[1m7/7\u001b[0m \u001b[32m━━━━━━━━━━━━━━━━━━━━\u001b[0m\u001b[37m\u001b[0m \u001b[1m0s\u001b[0m 20ms/step - accuracy: 0.6961 - loss: 0.6888 - val_accuracy: 0.5472 - val_loss: 0.9099 - learning_rate: 0.0010\n",
      "Epoch 41/90\n",
      "\u001b[1m7/7\u001b[0m \u001b[32m━━━━━━━━━━━━━━━━━━━━\u001b[0m\u001b[37m\u001b[0m \u001b[1m0s\u001b[0m 21ms/step - accuracy: 0.6835 - loss: 0.7203 - val_accuracy: 0.6038 - val_loss: 0.8861 - learning_rate: 0.0010\n",
      "Epoch 42/90\n",
      "\u001b[1m6/7\u001b[0m \u001b[32m━━━━━━━━━━━━━━━━━\u001b[0m\u001b[37m━━━\u001b[0m \u001b[1m0s\u001b[0m 10ms/step - accuracy: 0.7260 - loss: 0.7150\n",
      "Epoch 42: ReduceLROnPlateau reducing learning rate to 0.0005000000237487257.\n",
      "\u001b[1m7/7\u001b[0m \u001b[32m━━━━━━━━━━━━━━━━━━━━\u001b[0m\u001b[37m\u001b[0m \u001b[1m0s\u001b[0m 19ms/step - accuracy: 0.7320 - loss: 0.7028 - val_accuracy: 0.6415 - val_loss: 0.8892 - learning_rate: 0.0010\n",
      "Epoch 43/90\n",
      "\u001b[1m7/7\u001b[0m \u001b[32m━━━━━━━━━━━━━━━━━━━━\u001b[0m\u001b[37m\u001b[0m \u001b[1m0s\u001b[0m 22ms/step - accuracy: 0.7375 - loss: 0.6627 - val_accuracy: 0.6415 - val_loss: 0.8983 - learning_rate: 5.0000e-04\n",
      "Epoch 44/90\n",
      "\u001b[1m7/7\u001b[0m \u001b[32m━━━━━━━━━━━━━━━━━━━━\u001b[0m\u001b[37m\u001b[0m \u001b[1m0s\u001b[0m 22ms/step - accuracy: 0.7172 - loss: 0.6474 - val_accuracy: 0.6226 - val_loss: 0.8956 - learning_rate: 5.0000e-04\n",
      "Epoch 45/90\n",
      "\u001b[1m7/7\u001b[0m \u001b[32m━━━━━━━━━━━━━━━━━━━━\u001b[0m\u001b[37m\u001b[0m \u001b[1m0s\u001b[0m 45ms/step - accuracy: 0.7640 - loss: 0.6142 - val_accuracy: 0.6604 - val_loss: 0.9132 - learning_rate: 5.0000e-04\n",
      "Epoch 46/90\n",
      "\u001b[1m7/7\u001b[0m \u001b[32m━━━━━━━━━━━━━━━━━━━━\u001b[0m\u001b[37m\u001b[0m \u001b[1m0s\u001b[0m 33ms/step - accuracy: 0.7668 - loss: 0.6353 - val_accuracy: 0.6415 - val_loss: 0.9294 - learning_rate: 5.0000e-04\n",
      "Epoch 47/90\n",
      "\u001b[1m6/7\u001b[0m \u001b[32m━━━━━━━━━━━━━━━━━\u001b[0m\u001b[37m━━━\u001b[0m \u001b[1m0s\u001b[0m 11ms/step - accuracy: 0.7578 - loss: 0.5855 \n",
      "Epoch 47: ReduceLROnPlateau reducing learning rate to 0.0002500000118743628.\n",
      "\u001b[1m7/7\u001b[0m \u001b[32m━━━━━━━━━━━━━━━━━━━━\u001b[0m\u001b[37m\u001b[0m \u001b[1m0s\u001b[0m 42ms/step - accuracy: 0.7535 - loss: 0.5850 - val_accuracy: 0.6604 - val_loss: 0.8638 - learning_rate: 5.0000e-04\n",
      "Epoch 48/90\n",
      "\u001b[1m7/7\u001b[0m \u001b[32m━━━━━━━━━━━━━━━━━━━━\u001b[0m\u001b[37m\u001b[0m \u001b[1m0s\u001b[0m 34ms/step - accuracy: 0.8128 - loss: 0.5158 - val_accuracy: 0.6604 - val_loss: 0.8728 - learning_rate: 2.5000e-04\n",
      "Epoch 49/90\n",
      "\u001b[1m7/7\u001b[0m \u001b[32m━━━━━━━━━━━━━━━━━━━━\u001b[0m\u001b[37m\u001b[0m \u001b[1m0s\u001b[0m 42ms/step - accuracy: 0.8274 - loss: 0.5499 - val_accuracy: 0.6604 - val_loss: 0.8942 - learning_rate: 2.5000e-04\n",
      "Epoch 50/90\n",
      "\u001b[1m7/7\u001b[0m \u001b[32m━━━━━━━━━━━━━━━━━━━━\u001b[0m\u001b[37m\u001b[0m \u001b[1m1s\u001b[0m 35ms/step - accuracy: 0.7671 - loss: 0.5696 - val_accuracy: 0.6415 - val_loss: 0.9091 - learning_rate: 2.5000e-04\n",
      "Epoch 51/90\n",
      "\u001b[1m7/7\u001b[0m \u001b[32m━━━━━━━━━━━━━━━━━━━━\u001b[0m\u001b[37m\u001b[0m \u001b[1m0s\u001b[0m 30ms/step - accuracy: 0.7739 - loss: 0.5386 - val_accuracy: 0.6792 - val_loss: 0.8914 - learning_rate: 2.5000e-04\n",
      "Epoch 52/90\n",
      "\u001b[1m5/7\u001b[0m \u001b[32m━━━━━━━━━━━━━━\u001b[0m\u001b[37m━━━━━━\u001b[0m \u001b[1m0s\u001b[0m 15ms/step - accuracy: 0.8053 - loss: 0.5705 \n",
      "Epoch 52: ReduceLROnPlateau reducing learning rate to 0.0001250000059371814.\n",
      "\u001b[1m7/7\u001b[0m \u001b[32m━━━━━━━━━━━━━━━━━━━━\u001b[0m\u001b[37m\u001b[0m \u001b[1m0s\u001b[0m 36ms/step - accuracy: 0.7857 - loss: 0.5811 - val_accuracy: 0.6226 - val_loss: 0.8782 - learning_rate: 2.5000e-04\n",
      "Epoch 53/90\n",
      "\u001b[1m7/7\u001b[0m \u001b[32m━━━━━━━━━━━━━━━━━━━━\u001b[0m\u001b[37m\u001b[0m \u001b[1m0s\u001b[0m 46ms/step - accuracy: 0.7560 - loss: 0.5685 - val_accuracy: 0.6415 - val_loss: 0.8921 - learning_rate: 1.2500e-04\n",
      "Epoch 54/90\n",
      "\u001b[1m7/7\u001b[0m \u001b[32m━━━━━━━━━━━━━━━━━━━━\u001b[0m\u001b[37m\u001b[0m \u001b[1m0s\u001b[0m 44ms/step - accuracy: 0.7800 - loss: 0.5493 - val_accuracy: 0.6792 - val_loss: 0.8988 - learning_rate: 1.2500e-04\n",
      "Epoch 55/90\n",
      "\u001b[1m7/7\u001b[0m \u001b[32m━━━━━━━━━━━━━━━━━━━━\u001b[0m\u001b[37m\u001b[0m \u001b[1m0s\u001b[0m 37ms/step - accuracy: 0.8432 - loss: 0.4593 - val_accuracy: 0.6604 - val_loss: 0.8913 - learning_rate: 1.2500e-04\n",
      "Epoch 56/90\n",
      "\u001b[1m7/7\u001b[0m \u001b[32m━━━━━━━━━━━━━━━━━━━━\u001b[0m\u001b[37m\u001b[0m \u001b[1m0s\u001b[0m 42ms/step - accuracy: 0.8295 - loss: 0.4888 - val_accuracy: 0.6415 - val_loss: 0.8928 - learning_rate: 1.2500e-04\n",
      "Epoch 57/90\n",
      "\u001b[1m7/7\u001b[0m \u001b[32m━━━━━━━━━━━━━━━━━━━━\u001b[0m\u001b[37m\u001b[0m \u001b[1m0s\u001b[0m 9ms/step - accuracy: 0.8407 - loss: 0.4968  \n",
      "Epoch 57: ReduceLROnPlateau reducing learning rate to 6.25000029685907e-05.\n",
      "\u001b[1m7/7\u001b[0m \u001b[32m━━━━━━━━━━━━━━━━━━━━\u001b[0m\u001b[37m\u001b[0m \u001b[1m1s\u001b[0m 25ms/step - accuracy: 0.8388 - loss: 0.4975 - val_accuracy: 0.6415 - val_loss: 0.9018 - learning_rate: 1.2500e-04\n",
      "Epoch 58/90\n",
      "\u001b[1m7/7\u001b[0m \u001b[32m━━━━━━━━━━━━━━━━━━━━\u001b[0m\u001b[37m\u001b[0m \u001b[1m0s\u001b[0m 48ms/step - accuracy: 0.8164 - loss: 0.5078 - val_accuracy: 0.6415 - val_loss: 0.9026 - learning_rate: 6.2500e-05\n",
      "Epoch 59/90\n",
      "\u001b[1m7/7\u001b[0m \u001b[32m━━━━━━━━━━━━━━━━━━━━\u001b[0m\u001b[37m\u001b[0m \u001b[1m0s\u001b[0m 45ms/step - accuracy: 0.8035 - loss: 0.4611 - val_accuracy: 0.6604 - val_loss: 0.8948 - learning_rate: 6.2500e-05\n",
      "Epoch 60/90\n",
      "\u001b[1m7/7\u001b[0m \u001b[32m━━━━━━━━━━━━━━━━━━━━\u001b[0m\u001b[37m\u001b[0m \u001b[1m0s\u001b[0m 49ms/step - accuracy: 0.8469 - loss: 0.4440 - val_accuracy: 0.6415 - val_loss: 0.8972 - learning_rate: 6.2500e-05\n",
      "Epoch 61/90\n",
      "\u001b[1m7/7\u001b[0m \u001b[32m━━━━━━━━━━━━━━━━━━━━\u001b[0m\u001b[37m\u001b[0m \u001b[1m0s\u001b[0m 52ms/step - accuracy: 0.8301 - loss: 0.4652 - val_accuracy: 0.6415 - val_loss: 0.9004 - learning_rate: 6.2500e-05\n",
      "Epoch 62/90\n",
      "\u001b[1m7/7\u001b[0m \u001b[32m━━━━━━━━━━━━━━━━━━━━\u001b[0m\u001b[37m\u001b[0m \u001b[1m0s\u001b[0m 20ms/step - accuracy: 0.7621 - loss: 0.5438\n",
      "Epoch 62: ReduceLROnPlateau reducing learning rate to 3.125000148429535e-05.\n",
      "\u001b[1m7/7\u001b[0m \u001b[32m━━━━━━━━━━━━━━━━━━━━\u001b[0m\u001b[37m\u001b[0m \u001b[1m1s\u001b[0m 127ms/step - accuracy: 0.7641 - loss: 0.5406 - val_accuracy: 0.6415 - val_loss: 0.9034 - learning_rate: 6.2500e-05\n",
      "Epoch 63/90\n",
      "\u001b[1m7/7\u001b[0m \u001b[32m━━━━━━━━━━━━━━━━━━━━\u001b[0m\u001b[37m\u001b[0m \u001b[1m2s\u001b[0m 151ms/step - accuracy: 0.8499 - loss: 0.4390 - val_accuracy: 0.6415 - val_loss: 0.9055 - learning_rate: 3.1250e-05\n",
      "Epoch 64/90\n",
      "\u001b[1m7/7\u001b[0m \u001b[32m━━━━━━━━━━━━━━━━━━━━\u001b[0m\u001b[37m\u001b[0m \u001b[1m0s\u001b[0m 42ms/step - accuracy: 0.7843 - loss: 0.5066 - val_accuracy: 0.6415 - val_loss: 0.9054 - learning_rate: 3.1250e-05\n",
      "Epoch 65/90\n",
      "\u001b[1m7/7\u001b[0m \u001b[32m━━━━━━━━━━━━━━━━━━━━\u001b[0m\u001b[37m\u001b[0m \u001b[1m1s\u001b[0m 128ms/step - accuracy: 0.7660 - loss: 0.5231 - val_accuracy: 0.6415 - val_loss: 0.9053 - learning_rate: 3.1250e-05\n",
      "Epoch 66/90\n",
      "\u001b[1m7/7\u001b[0m \u001b[32m━━━━━━━━━━━━━━━━━━━━\u001b[0m\u001b[37m\u001b[0m \u001b[1m1s\u001b[0m 158ms/step - accuracy: 0.8610 - loss: 0.4383 - val_accuracy: 0.6415 - val_loss: 0.9085 - learning_rate: 3.1250e-05\n",
      "Epoch 67/90\n",
      "\u001b[1m7/7\u001b[0m \u001b[32m━━━━━━━━━━━━━━━━━━━━\u001b[0m\u001b[37m\u001b[0m \u001b[1m0s\u001b[0m 94ms/step - accuracy: 0.8484 - loss: 0.4449\n",
      "Epoch 67: ReduceLROnPlateau reducing learning rate to 1.5625000742147677e-05.\n",
      "\u001b[1m7/7\u001b[0m \u001b[32m━━━━━━━━━━━━━━━━━━━━\u001b[0m\u001b[37m\u001b[0m \u001b[1m2s\u001b[0m 235ms/step - accuracy: 0.8467 - loss: 0.4494 - val_accuracy: 0.6415 - val_loss: 0.9100 - learning_rate: 3.1250e-05\n",
      "Epoch 68/90\n",
      "\u001b[1m7/7\u001b[0m \u001b[32m━━━━━━━━━━━━━━━━━━━━\u001b[0m\u001b[37m\u001b[0m \u001b[1m2s\u001b[0m 260ms/step - accuracy: 0.7671 - loss: 0.5440 - val_accuracy: 0.6415 - val_loss: 0.9095 - learning_rate: 1.5625e-05\n",
      "Epoch 69/90\n",
      "\u001b[1m7/7\u001b[0m \u001b[32m━━━━━━━━━━━━━━━━━━━━\u001b[0m\u001b[37m\u001b[0m \u001b[1m2s\u001b[0m 144ms/step - accuracy: 0.7554 - loss: 0.4884 - val_accuracy: 0.6415 - val_loss: 0.9073 - learning_rate: 1.5625e-05\n",
      "Epoch 70/90\n",
      "\u001b[1m7/7\u001b[0m \u001b[32m━━━━━━━━━━━━━━━━━━━━\u001b[0m\u001b[37m\u001b[0m \u001b[1m1s\u001b[0m 111ms/step - accuracy: 0.7851 - loss: 0.5074 - val_accuracy: 0.6604 - val_loss: 0.9062 - learning_rate: 1.5625e-05\n",
      "Epoch 71/90\n",
      "\u001b[1m7/7\u001b[0m \u001b[32m━━━━━━━━━━━━━━━━━━━━\u001b[0m\u001b[37m\u001b[0m \u001b[1m2s\u001b[0m 195ms/step - accuracy: 0.8199 - loss: 0.4605 - val_accuracy: 0.6604 - val_loss: 0.9069 - learning_rate: 1.5625e-05\n",
      "Epoch 72/90\n",
      "\u001b[1m7/7\u001b[0m \u001b[32m━━━━━━━━━━━━━━━━━━━━\u001b[0m\u001b[37m\u001b[0m \u001b[1m0s\u001b[0m 61ms/step - accuracy: 0.7872 - loss: 0.5083\n",
      "Epoch 72: ReduceLROnPlateau reducing learning rate to 7.812500371073838e-06.\n",
      "\u001b[1m7/7\u001b[0m \u001b[32m━━━━━━━━━━━━━━━━━━━━\u001b[0m\u001b[37m\u001b[0m \u001b[1m2s\u001b[0m 211ms/step - accuracy: 0.7867 - loss: 0.5093 - val_accuracy: 0.6604 - val_loss: 0.9071 - learning_rate: 1.5625e-05\n",
      "Epoch 73/90\n",
      "\u001b[1m7/7\u001b[0m \u001b[32m━━━━━━━━━━━━━━━━━━━━\u001b[0m\u001b[37m\u001b[0m \u001b[1m2s\u001b[0m 213ms/step - accuracy: 0.8658 - loss: 0.4333 - val_accuracy: 0.6604 - val_loss: 0.9069 - learning_rate: 7.8125e-06\n",
      "Epoch 74/90\n",
      "\u001b[1m7/7\u001b[0m \u001b[32m━━━━━━━━━━━━━━━━━━━━\u001b[0m\u001b[37m\u001b[0m \u001b[1m3s\u001b[0m 375ms/step - accuracy: 0.8350 - loss: 0.4506 - val_accuracy: 0.6604 - val_loss: 0.9073 - learning_rate: 7.8125e-06\n",
      "Epoch 75/90\n",
      "\u001b[1m7/7\u001b[0m \u001b[32m━━━━━━━━━━━━━━━━━━━━\u001b[0m\u001b[37m\u001b[0m \u001b[1m2s\u001b[0m 109ms/step - accuracy: 0.8262 - loss: 0.4806 - val_accuracy: 0.6604 - val_loss: 0.9083 - learning_rate: 7.8125e-06\n",
      "Epoch 76/90\n",
      "\u001b[1m7/7\u001b[0m \u001b[32m━━━━━━━━━━━━━━━━━━━━\u001b[0m\u001b[37m\u001b[0m \u001b[1m1s\u001b[0m 171ms/step - accuracy: 0.8466 - loss: 0.4641 - val_accuracy: 0.6604 - val_loss: 0.9088 - learning_rate: 7.8125e-06\n",
      "Epoch 77/90\n",
      "\u001b[1m7/7\u001b[0m \u001b[32m━━━━━━━━━━━━━━━━━━━━\u001b[0m\u001b[37m\u001b[0m \u001b[1m0s\u001b[0m 63ms/step - accuracy: 0.8238 - loss: 0.4386\n",
      "Epoch 77: ReduceLROnPlateau reducing learning rate to 3.906250185536919e-06.\n",
      "\u001b[1m7/7\u001b[0m \u001b[32m━━━━━━━━━━━━━━━━━━━━\u001b[0m\u001b[37m\u001b[0m \u001b[1m2s\u001b[0m 211ms/step - accuracy: 0.8240 - loss: 0.4401 - val_accuracy: 0.6604 - val_loss: 0.9078 - learning_rate: 7.8125e-06\n",
      "Epoch 78/90\n",
      "\u001b[1m7/7\u001b[0m \u001b[32m━━━━━━━━━━━━━━━━━━━━\u001b[0m\u001b[37m\u001b[0m \u001b[1m3s\u001b[0m 324ms/step - accuracy: 0.8459 - loss: 0.4395 - val_accuracy: 0.6604 - val_loss: 0.9074 - learning_rate: 3.9063e-06\n",
      "Epoch 79/90\n",
      "\u001b[1m7/7\u001b[0m \u001b[32m━━━━━━━━━━━━━━━━━━━━\u001b[0m\u001b[37m\u001b[0m \u001b[1m3s\u001b[0m 382ms/step - accuracy: 0.8697 - loss: 0.4371 - val_accuracy: 0.6604 - val_loss: 0.9075 - learning_rate: 3.9063e-06\n",
      "Epoch 80/90\n",
      "\u001b[1m7/7\u001b[0m \u001b[32m━━━━━━━━━━━━━━━━━━━━\u001b[0m\u001b[37m\u001b[0m \u001b[1m1s\u001b[0m 99ms/step - accuracy: 0.8201 - loss: 0.4552 - val_accuracy: 0.6604 - val_loss: 0.9077 - learning_rate: 3.9063e-06\n",
      "Epoch 81/90\n",
      "\u001b[1m7/7\u001b[0m \u001b[32m━━━━━━━━━━━━━━━━━━━━\u001b[0m\u001b[37m\u001b[0m \u001b[1m1s\u001b[0m 82ms/step - accuracy: 0.8021 - loss: 0.4985 - val_accuracy: 0.6604 - val_loss: 0.9080 - learning_rate: 3.9063e-06\n",
      "Epoch 82/90\n",
      "\u001b[1m7/7\u001b[0m \u001b[32m━━━━━━━━━━━━━━━━━━━━\u001b[0m\u001b[37m\u001b[0m \u001b[1m0s\u001b[0m 38ms/step - accuracy: 0.8389 - loss: 0.4328\n",
      "Epoch 82: ReduceLROnPlateau reducing learning rate to 1.9531250927684596e-06.\n",
      "\u001b[1m7/7\u001b[0m \u001b[32m━━━━━━━━━━━━━━━━━━━━\u001b[0m\u001b[37m\u001b[0m \u001b[1m1s\u001b[0m 80ms/step - accuracy: 0.8378 - loss: 0.4337 - val_accuracy: 0.6604 - val_loss: 0.9079 - learning_rate: 3.9063e-06\n",
      "Epoch 83/90\n",
      "\u001b[1m7/7\u001b[0m \u001b[32m━━━━━━━━━━━━━━━━━━━━\u001b[0m\u001b[37m\u001b[0m \u001b[1m1s\u001b[0m 66ms/step - accuracy: 0.8176 - loss: 0.4611 - val_accuracy: 0.6604 - val_loss: 0.9079 - learning_rate: 1.9531e-06\n",
      "Epoch 84/90\n",
      "\u001b[1m7/7\u001b[0m \u001b[32m━━━━━━━━━━━━━━━━━━━━\u001b[0m\u001b[37m\u001b[0m \u001b[1m1s\u001b[0m 61ms/step - accuracy: 0.8284 - loss: 0.4525 - val_accuracy: 0.6604 - val_loss: 0.9077 - learning_rate: 1.9531e-06\n",
      "Epoch 85/90\n",
      "\u001b[1m7/7\u001b[0m \u001b[32m━━━━━━━━━━━━━━━━━━━━\u001b[0m\u001b[37m\u001b[0m \u001b[1m1s\u001b[0m 79ms/step - accuracy: 0.8000 - loss: 0.4922 - val_accuracy: 0.6604 - val_loss: 0.9074 - learning_rate: 1.9531e-06\n",
      "Epoch 86/90\n",
      "\u001b[1m7/7\u001b[0m \u001b[32m━━━━━━━━━━━━━━━━━━━━\u001b[0m\u001b[37m\u001b[0m \u001b[1m1s\u001b[0m 73ms/step - accuracy: 0.8390 - loss: 0.4491 - val_accuracy: 0.6604 - val_loss: 0.9071 - learning_rate: 1.9531e-06\n",
      "Epoch 87/90\n",
      "\u001b[1m7/7\u001b[0m \u001b[32m━━━━━━━━━━━━━━━━━━━━\u001b[0m\u001b[37m\u001b[0m \u001b[1m0s\u001b[0m 50ms/step - accuracy: 0.8402 - loss: 0.4812\n",
      "Epoch 87: ReduceLROnPlateau reducing learning rate to 9.765625463842298e-07.\n",
      "\u001b[1m7/7\u001b[0m \u001b[32m━━━━━━━━━━━━━━━━━━━━\u001b[0m\u001b[37m\u001b[0m \u001b[1m1s\u001b[0m 134ms/step - accuracy: 0.8360 - loss: 0.4852 - val_accuracy: 0.6604 - val_loss: 0.9067 - learning_rate: 1.9531e-06\n",
      "Epoch 88/90\n",
      "\u001b[1m7/7\u001b[0m \u001b[32m━━━━━━━━━━━━━━━━━━━━\u001b[0m\u001b[37m\u001b[0m \u001b[1m1s\u001b[0m 89ms/step - accuracy: 0.8263 - loss: 0.4658 - val_accuracy: 0.6604 - val_loss: 0.9066 - learning_rate: 9.7656e-07\n",
      "Epoch 89/90\n",
      "\u001b[1m7/7\u001b[0m \u001b[32m━━━━━━━━━━━━━━━━━━━━\u001b[0m\u001b[37m\u001b[0m \u001b[1m1s\u001b[0m 80ms/step - accuracy: 0.8265 - loss: 0.4320 - val_accuracy: 0.6604 - val_loss: 0.9065 - learning_rate: 9.7656e-07\n",
      "Epoch 90/90\n",
      "\u001b[1m7/7\u001b[0m \u001b[32m━━━━━━━━━━━━━━━━━━━━\u001b[0m\u001b[37m\u001b[0m \u001b[1m1s\u001b[0m 84ms/step - accuracy: 0.8335 - loss: 0.4673 - val_accuracy: 0.6604 - val_loss: 0.9065 - learning_rate: 9.7656e-07\n"
     ]
    }
   ],
   "source": [
    "lr_scheduler = ReduceLROnPlateau( monitor='val_loss', factor=0.5, patience=5, verbose=1 )  \n",
    "history = model.fit(X_train, y_train, validation_data=(X_test, y_test), epochs=90, batch_size=32, callbacks=[lr_scheduler])"
   ]
  },
  {
   "cell_type": "markdown",
   "metadata": {},
   "source": [
    "ارزیابی مدل"
   ]
  },
  {
   "cell_type": "code",
   "execution_count": 20,
   "metadata": {},
   "outputs": [
    {
     "name": "stdout",
     "output_type": "stream",
     "text": [
      "\u001b[1m2/2\u001b[0m \u001b[32m━━━━━━━━━━━━━━━━━━━━\u001b[0m\u001b[37m\u001b[0m \u001b[1m0s\u001b[0m 82ms/step - accuracy: 0.6590 - loss: 0.9188 \n",
      "Test Accuracy: 66.04%\n"
     ]
    }
   ],
   "source": [
    "test_loss, test_accuracy = model.evaluate(X_test, y_test)\n",
    "print(f\"Test Accuracy: {test_accuracy * 100:.2f}%\")"
   ]
  },
  {
   "cell_type": "markdown",
   "metadata": {},
   "source": [
    "رسم نمودار"
   ]
  },
  {
   "cell_type": "code",
   "execution_count": null,
   "metadata": {},
   "outputs": [],
   "source": [
    "# accuracy  \n",
    "plt.figure(figsize=(12, 5))  \n",
    "plt.subplot(1, 2, 1)  \n",
    "plt.plot(history.history['accuracy'], label='Training Accuracy')  \n",
    "plt.plot(history.history['val_accuracy'], label='Validation Accuracy')  \n",
    "plt.title('Model Accuracy')  \n",
    "plt.xlabel('Epochs')  \n",
    "plt.ylabel('Accuracy')  \n",
    "plt.legend(loc='lower right')  \n",
    "\n",
    "# loss  \n",
    "plt.subplot(1, 2, 2)  \n",
    "plt.plot(history.history['loss'], label='Training Loss')  \n",
    "plt.plot(history.history['val_loss'], label='Validation Loss')  \n",
    "plt.title('Model Loss')  \n",
    "plt.xlabel('Epochs')  \n",
    "plt.ylabel('Loss')  \n",
    "plt.legend(loc='upper right')  \n",
    "\n",
    "#------------------------------------------------------------------\n",
    "\n",
    "plt.tight_layout()  \n",
    "plt.show()"
   ]
  }
 ],
 "metadata": {
  "kernelspec": {
   "display_name": "Python 3",
   "language": "python",
   "name": "python3"
  },
  "language_info": {
   "codemirror_mode": {
    "name": "ipython",
    "version": 3
   },
   "file_extension": ".py",
   "mimetype": "text/x-python",
   "name": "python",
   "nbconvert_exporter": "python",
   "pygments_lexer": "ipython3",
   "version": "3.12.3"
  }
 },
 "nbformat": 4,
 "nbformat_minor": 2
}
