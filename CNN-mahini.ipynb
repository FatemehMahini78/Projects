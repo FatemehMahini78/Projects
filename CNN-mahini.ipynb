{
 "cells": [
  {
   "cell_type": "markdown",
   "metadata": {},
   "source": [
    "Human Face Emotions,\n",
    "This dataset contains three folders namely Happy, Sad and Angry. Each folder contains around 100 images of each mentioned expression."
   ]
  },
  {
   "cell_type": "markdown",
   "metadata": {},
   "source": [
    "Libraries we need:  "
   ]
  },
  {
   "cell_type": "code",
   "execution_count": 1,
   "metadata": {},
   "outputs": [],
   "source": [
    "import os\n",
    "import cv2\n",
    "import pickle\n",
    "import numpy as np\n",
    "from tensorflow.keras.models import Sequential\n",
    "from tensorflow.keras.layers import Conv2D, MaxPooling2D, Flatten, Dense, Dropout\n",
    "from tensorflow.keras.optimizers import Adam\n",
    "from sklearn.model_selection import train_test_split\n",
    "import matplotlib.pyplot as plt\n"
   ]
  },
  {
   "cell_type": "markdown",
   "metadata": {},
   "source": [
    "We need to change the images file format:"
   ]
  },
  {
   "cell_type": "markdown",
   "metadata": {},
   "source": [
    "کد cnn"
   ]
  },
  {
   "cell_type": "code",
   "execution_count": 2,
   "metadata": {},
   "outputs": [],
   "source": [
    "import torch\n",
    "import torch.nn as nn\n",
    "\n",
    "class SimpleCNN(nn.Module):\n",
    "    def __init__(self):\n",
    "        super(SimpleCNN, self).__init__()\n",
    "        # First Convolutional Layer\n",
    "        self.conv1 = nn.Conv2d(in_channels=1, out_channels=32, kernel_size=3, padding=1)  # Grayscale images\n",
    "        self.pool = nn.MaxPool2d(kernel_size=2, stride=2)\n",
    "        \n",
    "        # Second Convolutional Layer\n",
    "        self.conv2 = nn.Conv2d(in_channels=32, out_channels=64, kernel_size=3, padding=1)\n",
    "        \n",
    "        # Fully Connected Layers\n",
    "        self.fc1 = nn.Linear(64 * 7 * 7, 128)  # Adjust based on input image size\n",
    "        self.fc2 = nn.Linear(128, 10)  # Output 10 classes, e.g., for MNIST\n",
    "\n",
    "    def forward(self, x):\n",
    "        x = self.pool(nn.ReLU()(self.conv1(x)))\n",
    "        x = self.pool(nn.ReLU()(self.conv2(x)))\n",
    "        x = x.view(-1, 64 * 7 * 7)  # Flatten the output from convolution layers\n",
    "        x = nn.ReLU()(self.fc1(x))\n",
    "        x = self.fc2(x)\n",
    "        return x\n",
    "\n",
    "# Instantiate the model\n",
    "model = SimpleCNN()\n"
   ]
  },
  {
   "cell_type": "code",
   "execution_count": 3,
   "metadata": {},
   "outputs": [
    {
     "name": "stdout",
     "output_type": "stream",
     "text": [
      "Warning: The folder data/Happy does not exist.\n",
      "Warning: The folder data/Sad does not exist.\n",
      "Warning: The folder data/Angry does not exist.\n"
     ]
    },
    {
     "ename": "NameError",
     "evalue": "name 'to_categorical' is not defined",
     "output_type": "error",
     "traceback": [
      "\u001b[1;31m---------------------------------------------------------------------------\u001b[0m",
      "\u001b[1;31mNameError\u001b[0m                                 Traceback (most recent call last)",
      "Cell \u001b[1;32mIn[3], line 52\u001b[0m\n\u001b[0;32m     49\u001b[0m labels \u001b[38;5;241m=\u001b[39m np\u001b[38;5;241m.\u001b[39marray(labels)\n\u001b[0;32m     51\u001b[0m \u001b[38;5;66;03m# تبدیل برچسب‌ها به فرمت one-hot\u001b[39;00m\n\u001b[1;32m---> 52\u001b[0m labels \u001b[38;5;241m=\u001b[39m \u001b[43mto_categorical\u001b[49m(labels, num_classes\u001b[38;5;241m=\u001b[39m\u001b[38;5;241m3\u001b[39m)\n\u001b[0;32m     54\u001b[0m \u001b[38;5;66;03m# ذخیره به فرمت pkl\u001b[39;00m\n\u001b[0;32m     55\u001b[0m \u001b[38;5;28;01mwith\u001b[39;00m \u001b[38;5;28mopen\u001b[39m(\u001b[38;5;124m'\u001b[39m\u001b[38;5;124memotion_dataset.pkl\u001b[39m\u001b[38;5;124m'\u001b[39m, \u001b[38;5;124m'\u001b[39m\u001b[38;5;124mwb\u001b[39m\u001b[38;5;124m'\u001b[39m) \u001b[38;5;28;01mas\u001b[39;00m f:\n",
      "\u001b[1;31mNameError\u001b[0m: name 'to_categorical' is not defined"
     ]
    }
   ],
   "source": [
    "# مسیر به دیتاست\n",
    "dataset_dir = r'data/'  # مسیر اصلی دیتاست\n",
    "\n",
    "# اندازه تصویر\n",
    "img_size = 150\n",
    "\n",
    "# لیست‌ها برای ذخیره تصاویر و برچسب‌ها\n",
    "images = []\n",
    "labels = []\n",
    "\n",
    "# لیستی از احساسات\n",
    "emotion_labels = {\n",
    "    'Happy': 0, 'Sad': 1, 'Angry': 2\n",
    "}\n",
    "\n",
    "# بارگذاری تصاویر و برچسب‌ها از پوشه‌های مختلف\n",
    "for emotion, label in emotion_labels.items():\n",
    "    emotion_folder = os.path.join(dataset_dir, emotion)\n",
    "    \n",
    "    # بررسی اینکه پوشه وجود دارد\n",
    "    if os.path.exists(emotion_folder):\n",
    "        print(f\"Folder exists: {emotion_folder}\")\n",
    "        for img_name in os.listdir(emotion_folder):\n",
    "            img_path = os.path.join(emotion_folder, img_name)\n",
    "            \n",
    "            # چاپ مسیر فایل برای بررسی\n",
    "            print(f\"Reading image: {img_path}\")\n",
    "            \n",
    "            # بارگذاری تصویر\n",
    "            img = cv2.imread(img_path)\n",
    "            \n",
    "            # بررسی اگر تصویر بارگذاری نشد\n",
    "            if img is None:\n",
    "                print(f\"Warning: Image {img_path} could not be loaded.\")\n",
    "                continue  # ادامه می‌دهیم بدون اینکه به آن تصویر پرداخته شود\n",
    "\n",
    "            # تغییر اندازه و نرمال‌سازی\n",
    "            img = cv2.resize(img, (150, 150))  # تغییر اندازه به 150x150\n",
    "            img = img / 255.0  # نرمال‌سازی تصویر\n",
    "            \n",
    "            # افزودن تصویر و برچسب به لیست\n",
    "            images.append(img)\n",
    "            labels.append(label)\n",
    "    else:\n",
    "        print(f\"Warning: The folder {emotion_folder} does not exist.\")\n",
    "\n",
    "# تبدیل لیست‌ها به آرایه NumPy\n",
    "images = np.array(images)\n",
    "labels = np.array(labels)\n",
    "\n",
    "# تبدیل برچسب‌ها به فرمت one-hot\n",
    "labels = to_categorical(labels, num_classes=3)\n",
    "\n",
    "# ذخیره به فرمت pkl\n",
    "with open('emotion_dataset.pkl', 'wb') as f:\n",
    "    pickle.dump((images, labels), f)\n",
    "\n"
   ]
  },
  {
   "cell_type": "markdown",
   "metadata": {},
   "source": [
    "Number of each images in data"
   ]
  },
  {
   "cell_type": "code",
   "execution_count": null,
   "metadata": {},
   "outputs": [
    {
     "name": "stdout",
     "output_type": "stream",
     "text": [
      "Number of images in data/Happy: 100\n",
      "Number of images in data/Sad: 79\n",
      "Number of images in data/Angry: 86\n"
     ]
    }
   ],
   "source": [
    "for emotion in emotion_labels.keys():\n",
    "    emotion_folder = os.path.join(dataset_dir, emotion)\n",
    "    files = os.listdir(emotion_folder)\n",
    "    print(f\"Number of images in {emotion_folder}: {len(files)}\")\n"
   ]
  },
  {
   "cell_type": "markdown",
   "metadata": {},
   "source": [
    "Images shape and Labels shape\n",
    "#train"
   ]
  },
  {
   "cell_type": "code",
   "execution_count": null,
   "metadata": {},
   "outputs": [
    {
     "name": "stdout",
     "output_type": "stream",
     "text": [
      "Train images shape: (264, 150, 150, 3)\n",
      "Train labels shape: (264, 3)\n"
     ]
    }
   ],
   "source": [
    "# بارگذاری داده‌ها از فایل pkl\n",
    "with open('emotion_dataset.pkl', 'rb') as f:\n",
    "    train_images, train_labels = pickle.load(f)\n",
    "\n",
    "# بررسی ابعاد داده‌ها\n",
    "print(\"Train images shape:\", train_images.shape)\n",
    "print(\"Train labels shape:\", train_labels.shape)\n"
   ]
  },
  {
   "cell_type": "markdown",
   "metadata": {},
   "source": [
    "CNN Model"
   ]
  },
  {
   "cell_type": "code",
   "execution_count": null,
   "metadata": {},
   "outputs": [
    {
     "name": "stdout",
     "output_type": "stream",
     "text": [
      "Epoch 1/10\n",
      "\u001b[1m7/7\u001b[0m \u001b[32m━━━━━━━━━━━━━━━━━━━━\u001b[0m\u001b[37m\u001b[0m \u001b[1m14s\u001b[0m 491ms/step - accuracy: 0.3886 - loss: 2.0766 - val_accuracy: 0.1887 - val_loss: 1.1419\n",
      "Epoch 2/10\n",
      "\u001b[1m7/7\u001b[0m \u001b[32m━━━━━━━━━━━━━━━━━━━━\u001b[0m\u001b[37m\u001b[0m \u001b[1m2s\u001b[0m 240ms/step - accuracy: 0.4590 - loss: 1.0632 - val_accuracy: 0.0000e+00 - val_loss: 1.3421\n",
      "Epoch 3/10\n",
      "\u001b[1m7/7\u001b[0m \u001b[32m━━━━━━━━━━━━━━━━━━━━\u001b[0m\u001b[37m\u001b[0m \u001b[1m2s\u001b[0m 301ms/step - accuracy: 0.6139 - loss: 0.9817 - val_accuracy: 0.0000e+00 - val_loss: 3.1195\n",
      "Epoch 4/10\n",
      "\u001b[1m7/7\u001b[0m \u001b[32m━━━━━━━━━━━━━━━━━━━━\u001b[0m\u001b[37m\u001b[0m \u001b[1m2s\u001b[0m 254ms/step - accuracy: 0.6134 - loss: 0.9313 - val_accuracy: 0.0000e+00 - val_loss: 1.7490\n",
      "Epoch 5/10\n",
      "\u001b[1m7/7\u001b[0m \u001b[32m━━━━━━━━━━━━━━━━━━━━\u001b[0m\u001b[37m\u001b[0m \u001b[1m2s\u001b[0m 243ms/step - accuracy: 0.6699 - loss: 0.7901 - val_accuracy: 0.0000e+00 - val_loss: 1.5031\n",
      "Epoch 6/10\n",
      "\u001b[1m7/7\u001b[0m \u001b[32m━━━━━━━━━━━━━━━━━━━━\u001b[0m\u001b[37m\u001b[0m \u001b[1m2s\u001b[0m 233ms/step - accuracy: 0.6445 - loss: 0.8372 - val_accuracy: 0.0000e+00 - val_loss: 2.5650\n",
      "Epoch 7/10\n",
      "\u001b[1m7/7\u001b[0m \u001b[32m━━━━━━━━━━━━━━━━━━━━\u001b[0m\u001b[37m\u001b[0m \u001b[1m2s\u001b[0m 215ms/step - accuracy: 0.7474 - loss: 0.6225 - val_accuracy: 0.0566 - val_loss: 1.8474\n",
      "Epoch 8/10\n",
      "\u001b[1m7/7\u001b[0m \u001b[32m━━━━━━━━━━━━━━━━━━━━\u001b[0m\u001b[37m\u001b[0m \u001b[1m2s\u001b[0m 221ms/step - accuracy: 0.8254 - loss: 0.4947 - val_accuracy: 0.0377 - val_loss: 3.4449\n",
      "Epoch 9/10\n",
      "\u001b[1m7/7\u001b[0m \u001b[32m━━━━━━━━━━━━━━━━━━━━\u001b[0m\u001b[37m\u001b[0m \u001b[1m2s\u001b[0m 224ms/step - accuracy: 0.8085 - loss: 0.4486 - val_accuracy: 0.2075 - val_loss: 2.0874\n",
      "Epoch 10/10\n",
      "\u001b[1m7/7\u001b[0m \u001b[32m━━━━━━━━━━━━━━━━━━━━\u001b[0m\u001b[37m\u001b[0m \u001b[1m2s\u001b[0m 222ms/step - accuracy: 0.8501 - loss: 0.3792 - val_accuracy: 0.1132 - val_loss: 3.5898\n"
     ]
    },
    {
     "data": {
      "text/plain": [
       "<keras.src.callbacks.history.History at 0x2b3bea53140>"
      ]
     },
     "execution_count": 100,
     "metadata": {},
     "output_type": "execute_result"
    }
   ],
   "source": [
    "# ساخت مدل CNN\n",
    "model = Sequential([\n",
    "    Conv2D(32, (3, 3), activation='relu', input_shape=(150, 150, 3)),\n",
    "    MaxPooling2D(2, 2),\n",
    "    \n",
    "    Conv2D(64, (3, 3), activation='relu'),\n",
    "    MaxPooling2D(2, 2),\n",
    "    \n",
    "    Conv2D(128, (3, 3), activation='relu'),\n",
    "    MaxPooling2D(2, 2),\n",
    "    \n",
    "    Flatten(),\n",
    "    Dense(512, activation='relu'),\n",
    "    Dropout(0.5),\n",
    "    Dense(3, activation='softmax')  # 3 کلاس: angry,happy,sad\n",
    "])\n",
    "\n",
    "# کامپایل کردن مدل\n",
    "model.compile(optimizer=Adam(), loss='categorical_crossentropy', metrics=['accuracy'])\n",
    "\n",
    "# آموزش مدل\n",
    "model.fit(train_images, train_labels, batch_size=32, epochs=10, validation_split=0.2)\n"
   ]
  },
  {
   "cell_type": "code",
   "execution_count": null,
   "metadata": {},
   "outputs": [],
   "source": [
    "\n",
    "# تقسیم داده‌ها به آموزش و اعتبارسنجی (80% آموزش، 20% اعتبارسنجی)\n",
    "train_images, val_images, train_labels, val_labels = train_test_split(images, labels, test_size=0.2, random_state=42)\n"
   ]
  },
  {
   "cell_type": "code",
   "execution_count": null,
   "metadata": {},
   "outputs": [
    {
     "name": "stdout",
     "output_type": "stream",
     "text": [
      "Epoch 1/10\n",
      "\u001b[1m7/7\u001b[0m \u001b[32m━━━━━━━━━━━━━━━━━━━━\u001b[0m\u001b[37m\u001b[0m \u001b[1m4s\u001b[0m 341ms/step - accuracy: 0.7376 - loss: 0.9155 - val_accuracy: 0.7925 - val_loss: 0.5400\n",
      "Epoch 2/10\n",
      "\u001b[1m7/7\u001b[0m \u001b[32m━━━━━━━━━━━━━━━━━━━━\u001b[0m\u001b[37m\u001b[0m \u001b[1m2s\u001b[0m 224ms/step - accuracy: 0.7995 - loss: 0.5036 - val_accuracy: 0.8302 - val_loss: 0.4294\n",
      "Epoch 3/10\n",
      "\u001b[1m7/7\u001b[0m \u001b[32m━━━━━━━━━━━━━━━━━━━━\u001b[0m\u001b[37m\u001b[0m \u001b[1m2s\u001b[0m 234ms/step - accuracy: 0.8559 - loss: 0.4155 - val_accuracy: 0.8302 - val_loss: 0.3826\n",
      "Epoch 4/10\n",
      "\u001b[1m7/7\u001b[0m \u001b[32m━━━━━━━━━━━━━━━━━━━━\u001b[0m\u001b[37m\u001b[0m \u001b[1m1s\u001b[0m 209ms/step - accuracy: 0.9018 - loss: 0.2533 - val_accuracy: 0.8868 - val_loss: 0.3665\n",
      "Epoch 5/10\n",
      "\u001b[1m7/7\u001b[0m \u001b[32m━━━━━━━━━━━━━━━━━━━━\u001b[0m\u001b[37m\u001b[0m \u001b[1m1s\u001b[0m 206ms/step - accuracy: 0.9433 - loss: 0.1514 - val_accuracy: 0.8302 - val_loss: 0.4193\n",
      "Epoch 6/10\n",
      "\u001b[1m7/7\u001b[0m \u001b[32m━━━━━━━━━━━━━━━━━━━━\u001b[0m\u001b[37m\u001b[0m \u001b[1m1s\u001b[0m 210ms/step - accuracy: 0.9625 - loss: 0.1143 - val_accuracy: 0.8868 - val_loss: 0.3597\n",
      "Epoch 7/10\n",
      "\u001b[1m7/7\u001b[0m \u001b[32m━━━━━━━━━━━━━━━━━━━━\u001b[0m\u001b[37m\u001b[0m \u001b[1m2s\u001b[0m 237ms/step - accuracy: 0.9804 - loss: 0.0682 - val_accuracy: 0.8679 - val_loss: 0.4525\n",
      "Epoch 8/10\n",
      "\u001b[1m7/7\u001b[0m \u001b[32m━━━━━━━━━━━━━━━━━━━━\u001b[0m\u001b[37m\u001b[0m \u001b[1m2s\u001b[0m 271ms/step - accuracy: 0.9982 - loss: 0.0373 - val_accuracy: 0.8868 - val_loss: 0.5374\n",
      "Epoch 9/10\n",
      "\u001b[1m7/7\u001b[0m \u001b[32m━━━━━━━━━━━━━━━━━━━━\u001b[0m\u001b[37m\u001b[0m \u001b[1m2s\u001b[0m 265ms/step - accuracy: 0.9982 - loss: 0.0229 - val_accuracy: 0.8868 - val_loss: 0.5557\n",
      "Epoch 10/10\n",
      "\u001b[1m7/7\u001b[0m \u001b[32m━━━━━━━━━━━━━━━━━━━━\u001b[0m\u001b[37m\u001b[0m \u001b[1m2s\u001b[0m 216ms/step - accuracy: 0.9872 - loss: 0.0259 - val_accuracy: 0.8113 - val_loss: 0.5435\n"
     ]
    },
    {
     "data": {
      "text/plain": [
       "<keras.src.callbacks.history.History at 0x2b3be9ff560>"
      ]
     },
     "execution_count": 102,
     "metadata": {},
     "output_type": "execute_result"
    }
   ],
   "source": [
    "model.fit(train_images, train_labels, batch_size=32, epochs=10, validation_data=(val_images, val_labels))\n",
    "#print(\"Train images shape:\", train_images.shape)\n",
    "#print(\"Train labels shape:\", train_labels.shape)"
   ]
  },
  {
   "cell_type": "markdown",
   "metadata": {},
   "source": [
    "Training and Assessment Results"
   ]
  },
  {
   "cell_type": "code",
   "execution_count": null,
   "metadata": {},
   "outputs": [
    {
     "name": "stdout",
     "output_type": "stream",
     "text": [
      "\u001b[1m2/2\u001b[0m \u001b[32m━━━━━━━━━━━━━━━━━━━━\u001b[0m\u001b[37m\u001b[0m \u001b[1m0s\u001b[0m 36ms/step - accuracy: 0.8013 - loss: 0.5790\n",
      "Validation Accuracy: 81.13%\n"
     ]
    }
   ],
   "source": [
    "loss, accuracy = model.evaluate(val_images, val_labels)\n",
    "print(f\"Validation Accuracy: {accuracy * 100:.2f}%\")\n"
   ]
  },
  {
   "cell_type": "markdown",
   "metadata": {},
   "source": [
    "Save model"
   ]
  },
  {
   "cell_type": "code",
   "execution_count": null,
   "metadata": {},
   "outputs": [
    {
     "name": "stderr",
     "output_type": "stream",
     "text": [
      "WARNING:absl:You are saving your model as an HDF5 file via `model.save()` or `keras.saving.save_model(model)`. This file format is considered legacy. We recommend using instead the native Keras format, e.g. `model.save('my_model.keras')` or `keras.saving.save_model(model, 'my_model.keras')`. \n"
     ]
    }
   ],
   "source": [
    "model.save('emotion_model.h5')\n"
   ]
  },
  {
   "cell_type": "markdown",
   "metadata": {},
   "source": [
    "Plot"
   ]
  },
  {
   "cell_type": "code",
   "execution_count": null,
   "metadata": {},
   "outputs": [
    {
     "name": "stdout",
     "output_type": "stream",
     "text": [
      "Epoch 1/10\n",
      "\u001b[1m7/7\u001b[0m \u001b[32m━━━━━━━━━━━━━━━━━━━━\u001b[0m\u001b[37m\u001b[0m \u001b[1m2s\u001b[0m 274ms/step - accuracy: 0.9856 - loss: 0.0510 - val_accuracy: 0.7925 - val_loss: 0.8402\n",
      "Epoch 2/10\n",
      "\u001b[1m7/7\u001b[0m \u001b[32m━━━━━━━━━━━━━━━━━━━━\u001b[0m\u001b[37m\u001b[0m \u001b[1m2s\u001b[0m 287ms/step - accuracy: 0.9982 - loss: 0.0248 - val_accuracy: 0.8302 - val_loss: 0.8172\n",
      "Epoch 3/10\n",
      "\u001b[1m7/7\u001b[0m \u001b[32m━━━━━━━━━━━━━━━━━━━━\u001b[0m\u001b[37m\u001b[0m \u001b[1m2s\u001b[0m 224ms/step - accuracy: 1.0000 - loss: 0.0183 - val_accuracy: 0.8113 - val_loss: 0.7597\n",
      "Epoch 4/10\n",
      "\u001b[1m7/7\u001b[0m \u001b[32m━━━━━━━━━━━━━━━━━━━━\u001b[0m\u001b[37m\u001b[0m \u001b[1m2s\u001b[0m 244ms/step - accuracy: 0.9869 - loss: 0.0239 - val_accuracy: 0.7925 - val_loss: 0.7447\n",
      "Epoch 5/10\n",
      "\u001b[1m7/7\u001b[0m \u001b[32m━━━━━━━━━━━━━━━━━━━━\u001b[0m\u001b[37m\u001b[0m \u001b[1m2s\u001b[0m 225ms/step - accuracy: 1.0000 - loss: 0.0146 - val_accuracy: 0.7358 - val_loss: 0.8468\n",
      "Epoch 6/10\n",
      "\u001b[1m7/7\u001b[0m \u001b[32m━━━━━━━━━━━━━━━━━━━━\u001b[0m\u001b[37m\u001b[0m \u001b[1m1s\u001b[0m 210ms/step - accuracy: 1.0000 - loss: 0.0242 - val_accuracy: 0.7547 - val_loss: 1.0619\n",
      "Epoch 7/10\n",
      "\u001b[1m7/7\u001b[0m \u001b[32m━━━━━━━━━━━━━━━━━━━━\u001b[0m\u001b[37m\u001b[0m \u001b[1m1s\u001b[0m 212ms/step - accuracy: 0.9784 - loss: 0.0428 - val_accuracy: 0.7925 - val_loss: 0.6806\n",
      "Epoch 8/10\n",
      "\u001b[1m7/7\u001b[0m \u001b[32m━━━━━━━━━━━━━━━━━━━━\u001b[0m\u001b[37m\u001b[0m \u001b[1m2s\u001b[0m 243ms/step - accuracy: 0.9824 - loss: 0.0455 - val_accuracy: 0.7358 - val_loss: 0.7267\n",
      "Epoch 9/10\n",
      "\u001b[1m7/7\u001b[0m \u001b[32m━━━━━━━━━━━━━━━━━━━━\u001b[0m\u001b[37m\u001b[0m \u001b[1m2s\u001b[0m 295ms/step - accuracy: 1.0000 - loss: 0.0408 - val_accuracy: 0.8302 - val_loss: 0.6561\n",
      "Epoch 10/10\n",
      "\u001b[1m7/7\u001b[0m \u001b[32m━━━━━━━━━━━━━━━━━━━━\u001b[0m\u001b[37m\u001b[0m \u001b[1m2s\u001b[0m 229ms/step - accuracy: 0.9970 - loss: 0.0197 - val_accuracy: 0.8113 - val_loss: 0.7952\n"
     ]
    }
   ],
   "source": [
    "history = model.fit(train_images, train_labels, batch_size=32, epochs=10, validation_data=(val_images, val_labels))\n"
   ]
  },
  {
   "cell_type": "code",
   "execution_count": null,
   "metadata": {},
   "outputs": [
    {
     "data": {
      "image/png": "[encoded data removed]",
      "text/plain": [
       "<Figure size 1200x600 with 2 Axes>"
      ]
     },
     "metadata": {},
     "output_type": "display_data"
    }
   ],
   "source": [
    "\n",
    "# رسم نمودار دقت\n",
    "plt.figure(figsize=(12, 6))\n",
    "\n",
    "# دقت آموزش و اعتبارسنجی\n",
    "plt.subplot(1, 2, 1)\n",
    "plt.plot(history.history['accuracy'], label='Training Accuracy')\n",
    "plt.plot(history.history['val_accuracy'], label='Validation Accuracy')\n",
    "plt.title('Accuracy over Epochs')\n",
    "plt.xlabel('Epochs')\n",
    "plt.ylabel('Accuracy')\n",
    "plt.legend()\n",
    "\n",
    "# رسم نمودار از دست دادن\n",
    "plt.subplot(1, 2, 2)\n",
    "plt.plot(history.history['loss'], label='Training Loss')\n",
    "plt.plot(history.history['val_loss'], label='Validation Loss')\n",
    "plt.title('Loss over Epochs')\n",
    "plt.xlabel('Epochs')\n",
    "plt.ylabel('Loss')\n",
    "plt.legend()\n",
    "\n",
    "# نمایش نمودارها\n",
    "plt.tight_layout()\n",
    "plt.show()\n"
   ]
  },
  {
   "cell_type": "code",
   "execution_count": null,
   "metadata": {},
   "outputs": [
    {
     "name": "stdout",
     "output_type": "stream",
     "text": [
      "Epoch 1/10\n",
      "\u001b[1m7/7\u001b[0m \u001b[32m━━━━━━━━━━━━━━━━━━━━\u001b[0m\u001b[37m\u001b[0m \u001b[1m2s\u001b[0m 273ms/step - accuracy: 1.0000 - loss: 0.0053 - val_accuracy: 0.7925 - val_loss: 0.8385\n",
      "Epoch 2/10\n",
      "\u001b[1m7/7\u001b[0m \u001b[32m━━━━━━━━━━━━━━━━━━━━\u001b[0m\u001b[37m\u001b[0m \u001b[1m2s\u001b[0m 227ms/step - accuracy: 1.0000 - loss: 0.0038 - val_accuracy: 0.7736 - val_loss: 1.0216\n",
      "Epoch 3/10\n",
      "\u001b[1m7/7\u001b[0m \u001b[32m━━━━━━━━━━━━━━━━━━━━\u001b[0m\u001b[37m\u001b[0m \u001b[1m2s\u001b[0m 252ms/step - accuracy: 1.0000 - loss: 0.0148 - val_accuracy: 0.7736 - val_loss: 1.0706\n",
      "Epoch 4/10\n",
      "\u001b[1m7/7\u001b[0m \u001b[32m━━━━━━━━━━━━━━━━━━━━\u001b[0m\u001b[37m\u001b[0m \u001b[1m2s\u001b[0m 249ms/step - accuracy: 1.0000 - loss: 0.0063 - val_accuracy: 0.7925 - val_loss: 0.9108\n"
     ]
    }
   ],
   "source": [
    "from tensorflow.keras.callbacks import EarlyStopping\n",
    "\n",
    "early_stopping = EarlyStopping(monitor='val_loss', patience=3)\n",
    "\n",
    "history = model.fit(train_images, train_labels, batch_size=32, epochs=10, validation_data=(val_images, val_labels), callbacks=[early_stopping])\n"
   ]
  }
 ],
 "metadata": {
  "kernelspec": {
   "display_name": "Python 3",
   "language": "python",
   "name": "python3"
  },
  "language_info": {
   "codemirror_mode": {
    "name": "ipython",
    "version": 3
   },
   "file_extension": ".py",
   "mimetype": "text/x-python",
   "name": "python",
   "nbconvert_exporter": "python",
   "pygments_lexer": "ipython3",
   "version": "3.12.3"
  }
 },
 "nbformat": 4,
 "nbformat_minor": 2
}
