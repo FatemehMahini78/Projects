{
 "cells": [
  {
   "cell_type": "markdown",
   "metadata": {},
   "source": [
    "کتابخانه های مورد نیاز"
   ]
  },
  {
   "cell_type": "markdown",
   "metadata": {},
   "source": [
    "دانلود دیتاست مورد استفاده:   https://www.mediafire.com/file/j03djpy140rno4d/data.rar/file"
   ]
  },
  {
   "cell_type": "code",
   "execution_count": 27,
   "metadata": {},
   "outputs": [],
   "source": [
    "import os\n",
    "import cv2\n",
    "import numpy as np\n",
    "import tensorflow as tf\n",
    "\n",
    "from tensorflow.keras.utils import to_categorical\n",
    "from sklearn.model_selection import train_test_split\n",
    "\n",
    "import matplotlib.pyplot as plt\n",
    "\n",
    "from tensorflow.keras.layers import Input, Conv2D, MaxPooling2D, BatchNormalization, Activation, Add, GlobalAveragePooling2D, Dense\n",
    "from tensorflow.keras.models import Model\n",
    "\n",
    "from PIL import Image \n",
    "import random\n",
    "import tensorflow as tf  "
   ]
  },
  {
   "cell_type": "markdown",
   "metadata": {},
   "source": [
    "به جهت ثابت نگه داشتن دقت"
   ]
  },
  {
   "cell_type": "code",
   "execution_count": 28,
   "metadata": {},
   "outputs": [],
   "source": [
    "seed_value = 42\n",
    "np.random.seed(seed_value)  \n",
    "random.seed(seed_value)  \n",
    "tf.random.set_seed(seed_value) "
   ]
  },
  {
   "cell_type": "markdown",
   "metadata": {},
   "source": [
    "وارد کردن دیتاست"
   ]
  },
  {
   "cell_type": "code",
   "execution_count": 29,
   "metadata": {},
   "outputs": [],
   "source": [
    "data_dir = \"data\"  \n",
    "categories = os.listdir(data_dir) "
   ]
  },
  {
   "cell_type": "markdown",
   "metadata": {},
   "source": [
    "داده‌ها و برچسب‌ها "
   ]
  },
  {
   "cell_type": "code",
   "execution_count": 30,
   "metadata": {},
   "outputs": [],
   "source": [
    "images = []\n",
    "labels = []"
   ]
  },
  {
   "cell_type": "markdown",
   "metadata": {},
   "source": [
    "فرمت‌های تصویری پشتیبانی‌شده"
   ]
  },
  {
   "cell_type": "code",
   "execution_count": 31,
   "metadata": {},
   "outputs": [],
   "source": [
    "valid_formats = ('.jpg', '.png', '.gif', '.jpeg')"
   ]
  },
  {
   "cell_type": "markdown",
   "metadata": {},
   "source": [
    "تعداد تصاویر در هر پوشه"
   ]
  },
  {
   "cell_type": "code",
   "execution_count": 32,
   "metadata": {},
   "outputs": [
    {
     "name": "stdout",
     "output_type": "stream",
     "text": [
      "Number_Images_'Angry' : 86 images.\n",
      "Number_Images_'Happy' : 100 images.\n",
      "Number_Images_'Sad' : 79 images.\n"
     ]
    }
   ],
   "source": [
    "for category in categories:  \n",
    "    category_path = os.path.join(data_dir, category)\n",
    "    image_count = len([file for file in os.listdir(category_path) if file.lower().endswith(valid_formats)])\n",
    "    print(f\"Number_Images_'{category}' : {image_count} images.\")\n"
   ]
  },
  {
   "cell_type": "markdown",
   "metadata": {},
   "source": [
    "تعداد فرمت های تصاویر برای هر احساس"
   ]
  },
  {
   "cell_type": "code",
   "execution_count": 33,
   "metadata": {},
   "outputs": [
    {
     "name": "stdout",
     "output_type": "stream",
     "text": [
      "Emotion: 'Angry'\n",
      "  .jpg:  67\n",
      "  .png:  14\n",
      "  .gif:  0\n",
      "  .jpeg:  5\n",
      "Emotion: 'Happy'\n",
      "  .jpg:  80\n",
      "  .png:  8\n",
      "  .gif:  0\n",
      "  .jpeg:  12\n",
      "Emotion: 'Sad'\n",
      "  .jpg:  69\n",
      "  .png:  4\n",
      "  .gif:  1\n",
      "  .jpeg:  5\n"
     ]
    }
   ],
   "source": [
    "for category in categories:\n",
    "    category_path = os.path.join(data_dir, category)\n",
    "    format_count = {ext: 0 for ext in valid_formats}\n",
    "    \n",
    "    for file in os.listdir(category_path):\n",
    "        file_lower = file.lower()\n",
    "        for ext in valid_formats:\n",
    "            if file_lower.endswith(ext):\n",
    "                format_count[ext] += 1\n",
    "\n",
    "    print(f\"Emotion: '{category}'\")\n",
    "    for ext, count in format_count.items():\n",
    "        print(f\"  {ext}:  {count}\")\n"
   ]
  },
  {
   "cell_type": "markdown",
   "metadata": {},
   "source": [
    "تغییر سایز"
   ]
  },
  {
   "cell_type": "code",
   "execution_count": 34,
   "metadata": {},
   "outputs": [],
   "source": [
    "img_size = 32"
   ]
  },
  {
   "cell_type": "markdown",
   "metadata": {},
   "source": [
    "بارگذاری و پردازش تصاویر"
   ]
  },
  {
   "cell_type": "code",
   "execution_count": 35,
   "metadata": {},
   "outputs": [],
   "source": [
    "for label, category in enumerate(categories):  \n",
    "    category_path = os.path.join(data_dir, category)  \n",
    "    for file in os.listdir(category_path):  \n",
    "        if file.lower().endswith(valid_formats):  \n",
    "            file_path = os.path.join(category_path, file)  \n",
    "            try:  \n",
    "                if file.lower().endswith('.gif'):  \n",
    "                    img = Image.open(file_path)  # برای لحاظ gif  \n",
    "                    img = img.convert('RGB')  # تبدیل به  RGB  \n",
    "                    img_resized = img.resize((img_size, img_size), Image.LANCZOS)  # تغییر اندازه با آنتی‌الیزینگ  \n",
    "                    img_resized = cv2.cvtColor(np.array(img_resized), cv2.COLOR_RGB2BGR)  # تبدیل به  OpenCV  \n",
    "                else:  \n",
    "                    img = cv2.imread(file_path, cv2.IMREAD_COLOR)  # بارگذاری سایر تصاویر با OpenCV  \n",
    "                    if img is not None:  \n",
    "                        img_resized = cv2.resize(img, (img_size, img_size))  \n",
    "\n",
    "                images.append(img_resized)  # اضافه کردن تصویر تغییر اندازه داده شده  \n",
    "                labels.append(label) \n",
    "            except Exception as e:  \n",
    "                print(f\"Error processing {file_path}: {e}\")"
   ]
  },
  {
   "cell_type": "markdown",
   "metadata": {},
   "source": [
    " و نرمال سازی تبدیل به آرایه numpy "
   ]
  },
  {
   "cell_type": "code",
   "execution_count": 36,
   "metadata": {},
   "outputs": [],
   "source": [
    "images = np.array(images) / 255.0  \n",
    "labels = np.array(labels)"
   ]
  },
  {
   "cell_type": "markdown",
   "metadata": {},
   "source": [
    "ورود لیبل ها به صورت one hot"
   ]
  },
  {
   "cell_type": "code",
   "execution_count": 37,
   "metadata": {},
   "outputs": [],
   "source": [
    "labels = to_categorical(labels, num_classes=len(categories))\n"
   ]
  },
  {
   "cell_type": "markdown",
   "metadata": {},
   "source": [
    "تقسیم داده‌های آموزشی و آزمایشی"
   ]
  },
  {
   "cell_type": "code",
   "execution_count": 38,
   "metadata": {},
   "outputs": [],
   "source": [
    "X_train, X_test, y_train, y_test = train_test_split(images, labels, test_size=0.2, random_state=42)\n"
   ]
  },
  {
   "cell_type": "markdown",
   "metadata": {},
   "source": [
    "تعریف residual block"
   ]
  },
  {
   "cell_type": "code",
   "execution_count": 39,
   "metadata": {},
   "outputs": [],
   "source": [
    "def residual_block(x, filters, kernel_size=3, strides=1):\n",
    "    shortcut = x\n",
    "\n",
    "    #convolution_1\n",
    "    x = Conv2D(filters, kernel_size, strides=strides, padding='same')(x)\n",
    "    x = BatchNormalization()(x)\n",
    "    x = Activation('relu')(x)\n",
    "\n",
    "    #convolution_2\n",
    "    x = Conv2D(filters, kernel_size, padding='same')(x)\n",
    "    x = BatchNormalization()(x)\n",
    "\n",
    "    # تنظیم shortcut اگر ابعاد نامتناسب باشد\n",
    "    if strides != 1 or int(x.shape[-1]) != int(shortcut.shape[-1]):\n",
    "        shortcut = Conv2D(filters, 1, strides=strides, padding='same')(shortcut)\n",
    "\n",
    "    # اضافه کردن shortcut\n",
    "    x = Add()([x, shortcut])\n",
    "    x = Activation('relu')(x)\n",
    "\n",
    "    return x"
   ]
  },
  {
   "cell_type": "markdown",
   "metadata": {},
   "source": [
    "تعریف لایه ورودی"
   ]
  },
  {
   "cell_type": "code",
   "execution_count": 40,
   "metadata": {},
   "outputs": [],
   "source": [
    "input_layer = Input(shape=(img_size, img_size, 3))\n"
   ]
  },
  {
   "cell_type": "markdown",
   "metadata": {},
   "source": [
    "لایه‌های ابتدایی"
   ]
  },
  {
   "cell_type": "code",
   "execution_count": 41,
   "metadata": {},
   "outputs": [],
   "source": [
    "x = Conv2D(64, 7, strides=2, padding='same')(input_layer)\n",
    "x = BatchNormalization()(x)\n",
    "x = Activation('relu')(x)\n",
    "x = MaxPooling2D(pool_size=(3, 3), strides=2, padding='same')(x)"
   ]
  },
  {
   "cell_type": "markdown",
   "metadata": {},
   "source": [
    "بلاک‌های باقیمانده"
   ]
  },
  {
   "cell_type": "code",
   "execution_count": 42,
   "metadata": {},
   "outputs": [],
   "source": [
    "x = residual_block(x, 64)\n",
    "x = residual_block(x, 64)\n",
    "x = residual_block(x, 128, strides=2)\n",
    "x = residual_block(x, 128)\n",
    "x = residual_block(x, 256, strides=2)\n",
    "x = residual_block(x, 256)\n",
    "x = residual_block(x, 512, strides=2)\n",
    "x = residual_block(x, 512)"
   ]
  },
  {
   "cell_type": "markdown",
   "metadata": {},
   "source": [
    "لایه‌های نهایی"
   ]
  },
  {
   "cell_type": "code",
   "execution_count": 43,
   "metadata": {},
   "outputs": [],
   "source": [
    "x = GlobalAveragePooling2D()(x)\n",
    "output_layer = Dense(len(categories), activation='softmax')(x)"
   ]
  },
  {
   "cell_type": "markdown",
   "metadata": {},
   "source": [
    "ساخت مدل "
   ]
  },
  {
   "cell_type": "code",
   "execution_count": 44,
   "metadata": {},
   "outputs": [],
   "source": [
    "model = Model(inputs=input_layer, outputs=output_layer)"
   ]
  },
  {
   "cell_type": "markdown",
   "metadata": {},
   "source": [
    "کامپایل مدل"
   ]
  },
  {
   "cell_type": "code",
   "execution_count": 45,
   "metadata": {},
   "outputs": [],
   "source": [
    "model.compile(optimizer='adam', loss='categorical_crossentropy', metrics=['accuracy'])"
   ]
  },
  {
   "cell_type": "markdown",
   "metadata": {},
   "source": [
    "آموزش مدل"
   ]
  },
  {
   "cell_type": "code",
   "execution_count": 46,
   "metadata": {},
   "outputs": [
    {
     "name": "stdout",
     "output_type": "stream",
     "text": [
      "Epoch 1/90\n",
      "\u001b[1m11/11\u001b[0m \u001b[32m━━━━━━━━━━━━━━━━━━━━\u001b[0m\u001b[37m\u001b[0m \u001b[1m29s\u001b[0m 382ms/step - accuracy: 0.3374 - loss: 3.2740 - val_accuracy: 0.3774 - val_loss: 1.4715\n",
      "Epoch 2/90\n",
      "\u001b[1m11/11\u001b[0m \u001b[32m━━━━━━━━━━━━━━━━━━━━\u001b[0m\u001b[37m\u001b[0m \u001b[1m3s\u001b[0m 295ms/step - accuracy: 0.5014 - loss: 1.6117 - val_accuracy: 0.4340 - val_loss: 1.2369\n",
      "Epoch 3/90\n",
      "\u001b[1m11/11\u001b[0m \u001b[32m━━━━━━━━━━━━━━━━━━━━\u001b[0m\u001b[37m\u001b[0m \u001b[1m3s\u001b[0m 285ms/step - accuracy: 0.6075 - loss: 1.0421 - val_accuracy: 0.3962 - val_loss: 1.4432\n",
      "Epoch 4/90\n",
      "\u001b[1m11/11\u001b[0m \u001b[32m━━━━━━━━━━━━━━━━━━━━\u001b[0m\u001b[37m\u001b[0m \u001b[1m3s\u001b[0m 276ms/step - accuracy: 0.5599 - loss: 0.9409 - val_accuracy: 0.3019 - val_loss: 1.2485\n",
      "Epoch 5/90\n",
      "\u001b[1m11/11\u001b[0m \u001b[32m━━━━━━━━━━━━━━━━━━━━\u001b[0m\u001b[37m\u001b[0m \u001b[1m3s\u001b[0m 289ms/step - accuracy: 0.7868 - loss: 0.5857 - val_accuracy: 0.3962 - val_loss: 1.1665\n",
      "Epoch 6/90\n",
      "\u001b[1m11/11\u001b[0m \u001b[32m━━━━━━━━━━━━━━━━━━━━\u001b[0m\u001b[37m\u001b[0m \u001b[1m3s\u001b[0m 271ms/step - accuracy: 0.9178 - loss: 0.3059 - val_accuracy: 0.2830 - val_loss: 1.1300\n",
      "Epoch 7/90\n",
      "\u001b[1m11/11\u001b[0m \u001b[32m━━━━━━━━━━━━━━━━━━━━\u001b[0m\u001b[37m\u001b[0m \u001b[1m3s\u001b[0m 288ms/step - accuracy: 0.9800 - loss: 0.1184 - val_accuracy: 0.2830 - val_loss: 1.1650\n",
      "Epoch 8/90\n",
      "\u001b[1m11/11\u001b[0m \u001b[32m━━━━━━━━━━━━━━━━━━━━\u001b[0m\u001b[37m\u001b[0m \u001b[1m3s\u001b[0m 273ms/step - accuracy: 0.9548 - loss: 0.0956 - val_accuracy: 0.2264 - val_loss: 1.4271\n",
      "Epoch 9/90\n",
      "\u001b[1m11/11\u001b[0m \u001b[32m━━━━━━━━━━━━━━━━━━━━\u001b[0m\u001b[37m\u001b[0m \u001b[1m3s\u001b[0m 284ms/step - accuracy: 0.9870 - loss: 0.0624 - val_accuracy: 0.2264 - val_loss: 1.7128\n",
      "Epoch 10/90\n",
      "\u001b[1m11/11\u001b[0m \u001b[32m━━━━━━━━━━━━━━━━━━━━\u001b[0m\u001b[37m\u001b[0m \u001b[1m3s\u001b[0m 270ms/step - accuracy: 0.9870 - loss: 0.0260 - val_accuracy: 0.2264 - val_loss: 2.0824\n",
      "Epoch 11/90\n",
      "\u001b[1m11/11\u001b[0m \u001b[32m━━━━━━━━━━━━━━━━━━━━\u001b[0m\u001b[37m\u001b[0m \u001b[1m3s\u001b[0m 275ms/step - accuracy: 1.0000 - loss: 0.0084 - val_accuracy: 0.2264 - val_loss: 2.4482\n",
      "Epoch 12/90\n",
      "\u001b[1m11/11\u001b[0m \u001b[32m━━━━━━━━━━━━━━━━━━━━\u001b[0m\u001b[37m\u001b[0m \u001b[1m4s\u001b[0m 338ms/step - accuracy: 1.0000 - loss: 0.0032 - val_accuracy: 0.2264 - val_loss: 2.8069\n",
      "Epoch 13/90\n",
      "\u001b[1m11/11\u001b[0m \u001b[32m━━━━━━━━━━━━━━━━━━━━\u001b[0m\u001b[37m\u001b[0m \u001b[1m6s\u001b[0m 563ms/step - accuracy: 1.0000 - loss: 0.0019 - val_accuracy: 0.2264 - val_loss: 3.1770\n",
      "Epoch 14/90\n",
      "\u001b[1m11/11\u001b[0m \u001b[32m━━━━━━━━━━━━━━━━━━━━\u001b[0m\u001b[37m\u001b[0m \u001b[1m7s\u001b[0m 652ms/step - accuracy: 1.0000 - loss: 0.0015 - val_accuracy: 0.2264 - val_loss: 3.5523\n",
      "Epoch 15/90\n",
      "\u001b[1m11/11\u001b[0m \u001b[32m━━━━━━━━━━━━━━━━━━━━\u001b[0m\u001b[37m\u001b[0m \u001b[1m10s\u001b[0m 870ms/step - accuracy: 1.0000 - loss: 0.0012 - val_accuracy: 0.2264 - val_loss: 3.9191\n",
      "Epoch 16/90\n",
      "\u001b[1m11/11\u001b[0m \u001b[32m━━━━━━━━━━━━━━━━━━━━\u001b[0m\u001b[37m\u001b[0m \u001b[1m10s\u001b[0m 853ms/step - accuracy: 1.0000 - loss: 0.0011 - val_accuracy: 0.2264 - val_loss: 4.2686\n",
      "Epoch 17/90\n",
      "\u001b[1m11/11\u001b[0m \u001b[32m━━━━━━━━━━━━━━━━━━━━\u001b[0m\u001b[37m\u001b[0m \u001b[1m10s\u001b[0m 888ms/step - accuracy: 1.0000 - loss: 9.3553e-04 - val_accuracy: 0.2264 - val_loss: 4.5958\n",
      "Epoch 18/90\n",
      "\u001b[1m11/11\u001b[0m \u001b[32m━━━━━━━━━━━━━━━━━━━━\u001b[0m\u001b[37m\u001b[0m \u001b[1m10s\u001b[0m 859ms/step - accuracy: 1.0000 - loss: 8.2909e-04 - val_accuracy: 0.2264 - val_loss: 4.8949\n",
      "Epoch 19/90\n",
      "\u001b[1m11/11\u001b[0m \u001b[32m━━━━━━━━━━━━━━━━━━━━\u001b[0m\u001b[37m\u001b[0m \u001b[1m4s\u001b[0m 313ms/step - accuracy: 1.0000 - loss: 7.4367e-04 - val_accuracy: 0.2264 - val_loss: 5.1629\n",
      "Epoch 20/90\n",
      "\u001b[1m11/11\u001b[0m \u001b[32m━━━━━━━━━━━━━━━━━━━━\u001b[0m\u001b[37m\u001b[0m \u001b[1m2s\u001b[0m 212ms/step - accuracy: 1.0000 - loss: 6.7231e-04 - val_accuracy: 0.2264 - val_loss: 5.3959\n",
      "Epoch 21/90\n",
      "\u001b[1m11/11\u001b[0m \u001b[32m━━━━━━━━━━━━━━━━━━━━\u001b[0m\u001b[37m\u001b[0m \u001b[1m2s\u001b[0m 219ms/step - accuracy: 1.0000 - loss: 6.1153e-04 - val_accuracy: 0.2264 - val_loss: 5.5949\n",
      "Epoch 22/90\n",
      "\u001b[1m11/11\u001b[0m \u001b[32m━━━━━━━━━━━━━━━━━━━━\u001b[0m\u001b[37m\u001b[0m \u001b[1m3s\u001b[0m 264ms/step - accuracy: 1.0000 - loss: 5.5937e-04 - val_accuracy: 0.2264 - val_loss: 5.7582\n",
      "Epoch 23/90\n",
      "\u001b[1m11/11\u001b[0m \u001b[32m━━━━━━━━━━━━━━━━━━━━\u001b[0m\u001b[37m\u001b[0m \u001b[1m3s\u001b[0m 289ms/step - accuracy: 1.0000 - loss: 5.1391e-04 - val_accuracy: 0.2264 - val_loss: 5.8820\n",
      "Epoch 24/90\n",
      "\u001b[1m11/11\u001b[0m \u001b[32m━━━━━━━━━━━━━━━━━━━━\u001b[0m\u001b[37m\u001b[0m \u001b[1m3s\u001b[0m 305ms/step - accuracy: 1.0000 - loss: 4.7425e-04 - val_accuracy: 0.2264 - val_loss: 5.9621\n",
      "Epoch 25/90\n",
      "\u001b[1m11/11\u001b[0m \u001b[32m━━━━━━━━━━━━━━━━━━━━\u001b[0m\u001b[37m\u001b[0m \u001b[1m3s\u001b[0m 273ms/step - accuracy: 1.0000 - loss: 4.3951e-04 - val_accuracy: 0.2264 - val_loss: 5.9957\n",
      "Epoch 26/90\n",
      "\u001b[1m11/11\u001b[0m \u001b[32m━━━━━━━━━━━━━━━━━━━━\u001b[0m\u001b[37m\u001b[0m \u001b[1m3s\u001b[0m 293ms/step - accuracy: 1.0000 - loss: 4.0871e-04 - val_accuracy: 0.2264 - val_loss: 5.9803\n",
      "Epoch 27/90\n",
      "\u001b[1m11/11\u001b[0m \u001b[32m━━━━━━━━━━━━━━━━━━━━\u001b[0m\u001b[37m\u001b[0m \u001b[1m3s\u001b[0m 293ms/step - accuracy: 1.0000 - loss: 3.8122e-04 - val_accuracy: 0.2264 - val_loss: 5.9294\n",
      "Epoch 28/90\n",
      "\u001b[1m11/11\u001b[0m \u001b[32m━━━━━━━━━━━━━━━━━━━━\u001b[0m\u001b[37m\u001b[0m \u001b[1m3s\u001b[0m 269ms/step - accuracy: 1.0000 - loss: 3.5642e-04 - val_accuracy: 0.2264 - val_loss: 5.8381\n",
      "Epoch 29/90\n",
      "\u001b[1m11/11\u001b[0m \u001b[32m━━━━━━━━━━━━━━━━━━━━\u001b[0m\u001b[37m\u001b[0m \u001b[1m3s\u001b[0m 246ms/step - accuracy: 1.0000 - loss: 3.3406e-04 - val_accuracy: 0.2264 - val_loss: 5.7016\n",
      "Epoch 30/90\n",
      "\u001b[1m11/11\u001b[0m \u001b[32m━━━━━━━━━━━━━━━━━━━━\u001b[0m\u001b[37m\u001b[0m \u001b[1m9s\u001b[0m 910ms/step - accuracy: 1.0000 - loss: 3.1389e-04 - val_accuracy: 0.2453 - val_loss: 5.5183\n",
      "Epoch 31/90\n",
      "\u001b[1m11/11\u001b[0m \u001b[32m━━━━━━━━━━━━━━━━━━━━\u001b[0m\u001b[37m\u001b[0m \u001b[1m12s\u001b[0m 1s/step - accuracy: 1.0000 - loss: 2.9554e-04 - val_accuracy: 0.2642 - val_loss: 5.2919\n",
      "Epoch 32/90\n",
      "\u001b[1m11/11\u001b[0m \u001b[32m━━━━━━━━━━━━━━━━━━━━\u001b[0m\u001b[37m\u001b[0m \u001b[1m11s\u001b[0m 242ms/step - accuracy: 1.0000 - loss: 2.7885e-04 - val_accuracy: 0.3208 - val_loss: 5.0498\n",
      "Epoch 33/90\n",
      "\u001b[1m11/11\u001b[0m \u001b[32m━━━━━━━━━━━━━━━━━━━━\u001b[0m\u001b[37m\u001b[0m \u001b[1m3s\u001b[0m 240ms/step - accuracy: 1.0000 - loss: 2.6368e-04 - val_accuracy: 0.3585 - val_loss: 4.8021\n",
      "Epoch 34/90\n",
      "\u001b[1m11/11\u001b[0m \u001b[32m━━━━━━━━━━━━━━━━━━━━\u001b[0m\u001b[37m\u001b[0m \u001b[1m5s\u001b[0m 460ms/step - accuracy: 1.0000 - loss: 2.4964e-04 - val_accuracy: 0.3962 - val_loss: 4.5473\n",
      "Epoch 35/90\n",
      "\u001b[1m11/11\u001b[0m \u001b[32m━━━━━━━━━━━━━━━━━━━━\u001b[0m\u001b[37m\u001b[0m \u001b[1m10s\u001b[0m 864ms/step - accuracy: 1.0000 - loss: 2.3669e-04 - val_accuracy: 0.4151 - val_loss: 4.2943\n",
      "Epoch 36/90\n",
      "\u001b[1m11/11\u001b[0m \u001b[32m━━━━━━━━━━━━━━━━━━━━\u001b[0m\u001b[37m\u001b[0m \u001b[1m13s\u001b[0m 1s/step - accuracy: 1.0000 - loss: 2.2482e-04 - val_accuracy: 0.4340 - val_loss: 4.0459\n",
      "Epoch 37/90\n",
      "\u001b[1m11/11\u001b[0m \u001b[32m━━━━━━━━━━━━━━━━━━━━\u001b[0m\u001b[37m\u001b[0m \u001b[1m12s\u001b[0m 1s/step - accuracy: 1.0000 - loss: 2.1375e-04 - val_accuracy: 0.4340 - val_loss: 3.8085\n",
      "Epoch 38/90\n",
      "\u001b[1m11/11\u001b[0m \u001b[32m━━━━━━━━━━━━━━━━━━━━\u001b[0m\u001b[37m\u001b[0m \u001b[1m12s\u001b[0m 230ms/step - accuracy: 1.0000 - loss: 2.0351e-04 - val_accuracy: 0.4717 - val_loss: 3.5933\n",
      "Epoch 39/90\n",
      "\u001b[1m11/11\u001b[0m \u001b[32m━━━━━━━━━━━━━━━━━━━━\u001b[0m\u001b[37m\u001b[0m \u001b[1m2s\u001b[0m 208ms/step - accuracy: 1.0000 - loss: 1.9395e-04 - val_accuracy: 0.4717 - val_loss: 3.4074\n",
      "Epoch 40/90\n",
      "\u001b[1m11/11\u001b[0m \u001b[32m━━━━━━━━━━━━━━━━━━━━\u001b[0m\u001b[37m\u001b[0m \u001b[1m2s\u001b[0m 215ms/step - accuracy: 1.0000 - loss: 1.8499e-04 - val_accuracy: 0.5283 - val_loss: 3.2589\n",
      "Epoch 41/90\n",
      "\u001b[1m11/11\u001b[0m \u001b[32m━━━━━━━━━━━━━━━━━━━━\u001b[0m\u001b[37m\u001b[0m \u001b[1m2s\u001b[0m 213ms/step - accuracy: 1.0000 - loss: 1.7663e-04 - val_accuracy: 0.5283 - val_loss: 3.1480\n",
      "Epoch 42/90\n",
      "\u001b[1m11/11\u001b[0m \u001b[32m━━━━━━━━━━━━━━━━━━━━\u001b[0m\u001b[37m\u001b[0m \u001b[1m6s\u001b[0m 598ms/step - accuracy: 1.0000 - loss: 1.6881e-04 - val_accuracy: 0.5283 - val_loss: 3.0452\n",
      "Epoch 43/90\n",
      "\u001b[1m11/11\u001b[0m \u001b[32m━━━━━━━━━━━━━━━━━━━━\u001b[0m\u001b[37m\u001b[0m \u001b[1m10s\u001b[0m 887ms/step - accuracy: 1.0000 - loss: 1.6150e-04 - val_accuracy: 0.5472 - val_loss: 2.9534\n",
      "Epoch 44/90\n",
      "\u001b[1m11/11\u001b[0m \u001b[32m━━━━━━━━━━━━━━━━━━━━\u001b[0m\u001b[37m\u001b[0m \u001b[1m10s\u001b[0m 896ms/step - accuracy: 1.0000 - loss: 1.5468e-04 - val_accuracy: 0.5660 - val_loss: 2.8676\n",
      "Epoch 45/90\n",
      "\u001b[1m11/11\u001b[0m \u001b[32m━━━━━━━━━━━━━━━━━━━━\u001b[0m\u001b[37m\u001b[0m \u001b[1m8s\u001b[0m 742ms/step - accuracy: 1.0000 - loss: 1.4833e-04 - val_accuracy: 0.5472 - val_loss: 2.7932\n",
      "Epoch 46/90\n",
      "\u001b[1m11/11\u001b[0m \u001b[32m━━━━━━━━━━━━━━━━━━━━\u001b[0m\u001b[37m\u001b[0m \u001b[1m9s\u001b[0m 831ms/step - accuracy: 1.0000 - loss: 1.4238e-04 - val_accuracy: 0.5660 - val_loss: 2.7294\n",
      "Epoch 47/90\n",
      "\u001b[1m11/11\u001b[0m \u001b[32m━━━━━━━━━━━━━━━━━━━━\u001b[0m\u001b[37m\u001b[0m \u001b[1m10s\u001b[0m 926ms/step - accuracy: 1.0000 - loss: 1.3680e-04 - val_accuracy: 0.5849 - val_loss: 2.6755\n",
      "Epoch 48/90\n",
      "\u001b[1m11/11\u001b[0m \u001b[32m━━━━━━━━━━━━━━━━━━━━\u001b[0m\u001b[37m\u001b[0m \u001b[1m11s\u001b[0m 989ms/step - accuracy: 1.0000 - loss: 1.3155e-04 - val_accuracy: 0.6038 - val_loss: 2.6329\n",
      "Epoch 49/90\n",
      "\u001b[1m11/11\u001b[0m \u001b[32m━━━━━━━━━━━━━━━━━━━━\u001b[0m\u001b[37m\u001b[0m \u001b[1m9s\u001b[0m 830ms/step - accuracy: 1.0000 - loss: 1.2660e-04 - val_accuracy: 0.6038 - val_loss: 2.5987\n",
      "Epoch 50/90\n",
      "\u001b[1m11/11\u001b[0m \u001b[32m━━━━━━━━━━━━━━━━━━━━\u001b[0m\u001b[37m\u001b[0m \u001b[1m8s\u001b[0m 745ms/step - accuracy: 1.0000 - loss: 1.2189e-04 - val_accuracy: 0.6038 - val_loss: 2.5683\n",
      "Epoch 51/90\n",
      "\u001b[1m11/11\u001b[0m \u001b[32m━━━━━━━━━━━━━━━━━━━━\u001b[0m\u001b[37m\u001b[0m \u001b[1m11s\u001b[0m 965ms/step - accuracy: 1.0000 - loss: 1.1746e-04 - val_accuracy: 0.6038 - val_loss: 2.5422\n",
      "Epoch 52/90\n",
      "\u001b[1m11/11\u001b[0m \u001b[32m━━━━━━━━━━━━━━━━━━━━\u001b[0m\u001b[37m\u001b[0m \u001b[1m10s\u001b[0m 936ms/step - accuracy: 1.0000 - loss: 1.1327e-04 - val_accuracy: 0.6038 - val_loss: 2.5211\n",
      "Epoch 53/90\n",
      "\u001b[1m11/11\u001b[0m \u001b[32m━━━━━━━━━━━━━━━━━━━━\u001b[0m\u001b[37m\u001b[0m \u001b[1m9s\u001b[0m 772ms/step - accuracy: 1.0000 - loss: 1.0931e-04 - val_accuracy: 0.6038 - val_loss: 2.5039\n",
      "Epoch 54/90\n",
      "\u001b[1m11/11\u001b[0m \u001b[32m━━━━━━━━━━━━━━━━━━━━\u001b[0m\u001b[37m\u001b[0m \u001b[1m8s\u001b[0m 705ms/step - accuracy: 1.0000 - loss: 1.0556e-04 - val_accuracy: 0.5849 - val_loss: 2.4935\n",
      "Epoch 55/90\n",
      "\u001b[1m11/11\u001b[0m \u001b[32m━━━━━━━━━━━━━━━━━━━━\u001b[0m\u001b[37m\u001b[0m \u001b[1m9s\u001b[0m 867ms/step - accuracy: 1.0000 - loss: 1.0200e-04 - val_accuracy: 0.6038 - val_loss: 2.4889\n",
      "Epoch 56/90\n",
      "\u001b[1m11/11\u001b[0m \u001b[32m━━━━━━━━━━━━━━━━━━━━\u001b[0m\u001b[37m\u001b[0m \u001b[1m6s\u001b[0m 383ms/step - accuracy: 1.0000 - loss: 9.8611e-05 - val_accuracy: 0.6038 - val_loss: 2.4875\n",
      "Epoch 57/90\n",
      "\u001b[1m11/11\u001b[0m \u001b[32m━━━━━━━━━━━━━━━━━━━━\u001b[0m\u001b[37m\u001b[0m \u001b[1m3s\u001b[0m 230ms/step - accuracy: 1.0000 - loss: 9.5390e-05 - val_accuracy: 0.6226 - val_loss: 2.4877\n",
      "Epoch 58/90\n",
      "\u001b[1m11/11\u001b[0m \u001b[32m━━━━━━━━━━━━━━━━━━━━\u001b[0m\u001b[37m\u001b[0m \u001b[1m2s\u001b[0m 211ms/step - accuracy: 1.0000 - loss: 9.2314e-05 - val_accuracy: 0.6226 - val_loss: 2.4887\n",
      "Epoch 59/90\n",
      "\u001b[1m11/11\u001b[0m \u001b[32m━━━━━━━━━━━━━━━━━━━━\u001b[0m\u001b[37m\u001b[0m \u001b[1m3s\u001b[0m 264ms/step - accuracy: 1.0000 - loss: 8.9373e-05 - val_accuracy: 0.6226 - val_loss: 2.4895\n",
      "Epoch 60/90\n",
      "\u001b[1m11/11\u001b[0m \u001b[32m━━━━━━━━━━━━━━━━━━━━\u001b[0m\u001b[37m\u001b[0m \u001b[1m3s\u001b[0m 253ms/step - accuracy: 1.0000 - loss: 8.6555e-05 - val_accuracy: 0.6226 - val_loss: 2.4890\n",
      "Epoch 61/90\n",
      "\u001b[1m11/11\u001b[0m \u001b[32m━━━━━━━━━━━━━━━━━━━━\u001b[0m\u001b[37m\u001b[0m \u001b[1m3s\u001b[0m 245ms/step - accuracy: 1.0000 - loss: 8.3836e-05 - val_accuracy: 0.6226 - val_loss: 2.4894\n",
      "Epoch 62/90\n",
      "\u001b[1m11/11\u001b[0m \u001b[32m━━━━━━━━━━━━━━━━━━━━\u001b[0m\u001b[37m\u001b[0m \u001b[1m3s\u001b[0m 239ms/step - accuracy: 1.0000 - loss: 8.1229e-05 - val_accuracy: 0.6226 - val_loss: 2.4908\n",
      "Epoch 63/90\n",
      "\u001b[1m11/11\u001b[0m \u001b[32m━━━━━━━━━━━━━━━━━━━━\u001b[0m\u001b[37m\u001b[0m \u001b[1m3s\u001b[0m 228ms/step - accuracy: 1.0000 - loss: 7.8730e-05 - val_accuracy: 0.6226 - val_loss: 2.4926\n",
      "Epoch 64/90\n",
      "\u001b[1m11/11\u001b[0m \u001b[32m━━━━━━━━━━━━━━━━━━━━\u001b[0m\u001b[37m\u001b[0m \u001b[1m3s\u001b[0m 234ms/step - accuracy: 1.0000 - loss: 7.6382e-05 - val_accuracy: 0.6038 - val_loss: 2.4950\n",
      "Epoch 65/90\n",
      "\u001b[1m11/11\u001b[0m \u001b[32m━━━━━━━━━━━━━━━━━━━━\u001b[0m\u001b[37m\u001b[0m \u001b[1m3s\u001b[0m 235ms/step - accuracy: 1.0000 - loss: 7.4106e-05 - val_accuracy: 0.6038 - val_loss: 2.4977\n",
      "Epoch 66/90\n",
      "\u001b[1m11/11\u001b[0m \u001b[32m━━━━━━━━━━━━━━━━━━━━\u001b[0m\u001b[37m\u001b[0m \u001b[1m3s\u001b[0m 237ms/step - accuracy: 1.0000 - loss: 7.1940e-05 - val_accuracy: 0.6038 - val_loss: 2.5011\n",
      "Epoch 67/90\n",
      "\u001b[1m11/11\u001b[0m \u001b[32m━━━━━━━━━━━━━━━━━━━━\u001b[0m\u001b[37m\u001b[0m \u001b[1m3s\u001b[0m 234ms/step - accuracy: 1.0000 - loss: 6.9859e-05 - val_accuracy: 0.6038 - val_loss: 2.5045\n",
      "Epoch 68/90\n",
      "\u001b[1m11/11\u001b[0m \u001b[32m━━━━━━━━━━━━━━━━━━━━\u001b[0m\u001b[37m\u001b[0m \u001b[1m3s\u001b[0m 229ms/step - accuracy: 1.0000 - loss: 6.7879e-05 - val_accuracy: 0.6038 - val_loss: 2.5080\n",
      "Epoch 69/90\n",
      "\u001b[1m11/11\u001b[0m \u001b[32m━━━━━━━━━━━━━━━━━━━━\u001b[0m\u001b[37m\u001b[0m \u001b[1m3s\u001b[0m 235ms/step - accuracy: 1.0000 - loss: 6.5990e-05 - val_accuracy: 0.6038 - val_loss: 2.5114\n",
      "Epoch 70/90\n",
      "\u001b[1m11/11\u001b[0m \u001b[32m━━━━━━━━━━━━━━━━━━━━\u001b[0m\u001b[37m\u001b[0m \u001b[1m3s\u001b[0m 230ms/step - accuracy: 1.0000 - loss: 6.4157e-05 - val_accuracy: 0.6038 - val_loss: 2.5148\n",
      "Epoch 71/90\n",
      "\u001b[1m11/11\u001b[0m \u001b[32m━━━━━━━━━━━━━━━━━━━━\u001b[0m\u001b[37m\u001b[0m \u001b[1m3s\u001b[0m 233ms/step - accuracy: 1.0000 - loss: 6.2397e-05 - val_accuracy: 0.6038 - val_loss: 2.5181\n",
      "Epoch 72/90\n",
      "\u001b[1m11/11\u001b[0m \u001b[32m━━━━━━━━━━━━━━━━━━━━\u001b[0m\u001b[37m\u001b[0m \u001b[1m3s\u001b[0m 234ms/step - accuracy: 1.0000 - loss: 6.0708e-05 - val_accuracy: 0.6038 - val_loss: 2.5215\n",
      "Epoch 73/90\n",
      "\u001b[1m11/11\u001b[0m \u001b[32m━━━━━━━━━━━━━━━━━━━━\u001b[0m\u001b[37m\u001b[0m \u001b[1m3s\u001b[0m 237ms/step - accuracy: 1.0000 - loss: 5.9092e-05 - val_accuracy: 0.6038 - val_loss: 2.5250\n",
      "Epoch 74/90\n",
      "\u001b[1m11/11\u001b[0m \u001b[32m━━━━━━━━━━━━━━━━━━━━\u001b[0m\u001b[37m\u001b[0m \u001b[1m3s\u001b[0m 234ms/step - accuracy: 1.0000 - loss: 5.7532e-05 - val_accuracy: 0.6038 - val_loss: 2.5286\n",
      "Epoch 75/90\n",
      "\u001b[1m11/11\u001b[0m \u001b[32m━━━━━━━━━━━━━━━━━━━━\u001b[0m\u001b[37m\u001b[0m \u001b[1m3s\u001b[0m 229ms/step - accuracy: 1.0000 - loss: 5.5918e-05 - val_accuracy: 0.6038 - val_loss: 2.5305\n",
      "Epoch 76/90\n",
      "\u001b[1m11/11\u001b[0m \u001b[32m━━━━━━━━━━━━━━━━━━━━\u001b[0m\u001b[37m\u001b[0m \u001b[1m3s\u001b[0m 230ms/step - accuracy: 1.0000 - loss: 5.4534e-05 - val_accuracy: 0.6038 - val_loss: 2.5334\n",
      "Epoch 77/90\n",
      "\u001b[1m11/11\u001b[0m \u001b[32m━━━━━━━━━━━━━━━━━━━━\u001b[0m\u001b[37m\u001b[0m \u001b[1m3s\u001b[0m 233ms/step - accuracy: 1.0000 - loss: 5.3567e-05 - val_accuracy: 0.6038 - val_loss: 2.5374\n",
      "Epoch 78/90\n",
      "\u001b[1m11/11\u001b[0m \u001b[32m━━━━━━━━━━━━━━━━━━━━\u001b[0m\u001b[37m\u001b[0m \u001b[1m3s\u001b[0m 232ms/step - accuracy: 1.0000 - loss: 5.2008e-05 - val_accuracy: 0.6038 - val_loss: 2.5413\n",
      "Epoch 79/90\n",
      "\u001b[1m11/11\u001b[0m \u001b[32m━━━━━━━━━━━━━━━━━━━━\u001b[0m\u001b[37m\u001b[0m \u001b[1m3s\u001b[0m 229ms/step - accuracy: 1.0000 - loss: 5.0577e-05 - val_accuracy: 0.6038 - val_loss: 2.5452\n",
      "Epoch 80/90\n",
      "\u001b[1m11/11\u001b[0m \u001b[32m━━━━━━━━━━━━━━━━━━━━\u001b[0m\u001b[37m\u001b[0m \u001b[1m3s\u001b[0m 229ms/step - accuracy: 1.0000 - loss: 4.9262e-05 - val_accuracy: 0.6038 - val_loss: 2.5491\n",
      "Epoch 81/90\n",
      "\u001b[1m11/11\u001b[0m \u001b[32m━━━━━━━━━━━━━━━━━━━━\u001b[0m\u001b[37m\u001b[0m \u001b[1m3s\u001b[0m 242ms/step - accuracy: 1.0000 - loss: 4.7909e-05 - val_accuracy: 0.6038 - val_loss: 2.5529\n",
      "Epoch 82/90\n",
      "\u001b[1m11/11\u001b[0m \u001b[32m━━━━━━━━━━━━━━━━━━━━\u001b[0m\u001b[37m\u001b[0m \u001b[1m5s\u001b[0m 204ms/step - accuracy: 1.0000 - loss: 4.6599e-05 - val_accuracy: 0.6038 - val_loss: 2.5566\n",
      "Epoch 83/90\n",
      "\u001b[1m11/11\u001b[0m \u001b[32m━━━━━━━━━━━━━━━━━━━━\u001b[0m\u001b[37m\u001b[0m \u001b[1m2s\u001b[0m 210ms/step - accuracy: 1.0000 - loss: 4.5396e-05 - val_accuracy: 0.6038 - val_loss: 2.5605\n",
      "Epoch 84/90\n",
      "\u001b[1m11/11\u001b[0m \u001b[32m━━━━━━━━━━━━━━━━━━━━\u001b[0m\u001b[37m\u001b[0m \u001b[1m2s\u001b[0m 208ms/step - accuracy: 1.0000 - loss: 4.4430e-05 - val_accuracy: 0.6038 - val_loss: 2.5645\n",
      "Epoch 85/90\n",
      "\u001b[1m11/11\u001b[0m \u001b[32m━━━━━━━━━━━━━━━━━━━━\u001b[0m\u001b[37m\u001b[0m \u001b[1m3s\u001b[0m 238ms/step - accuracy: 1.0000 - loss: 4.3305e-05 - val_accuracy: 0.6038 - val_loss: 2.5684\n",
      "Epoch 86/90\n",
      "\u001b[1m11/11\u001b[0m \u001b[32m━━━━━━━━━━━━━━━━━━━━\u001b[0m\u001b[37m\u001b[0m \u001b[1m3s\u001b[0m 231ms/step - accuracy: 1.0000 - loss: 4.2139e-05 - val_accuracy: 0.6038 - val_loss: 2.5723\n",
      "Epoch 87/90\n",
      "\u001b[1m11/11\u001b[0m \u001b[32m━━━━━━━━━━━━━━━━━━━━\u001b[0m\u001b[37m\u001b[0m \u001b[1m3s\u001b[0m 227ms/step - accuracy: 1.0000 - loss: 4.1026e-05 - val_accuracy: 0.6038 - val_loss: 2.5763\n",
      "Epoch 88/90\n",
      "\u001b[1m11/11\u001b[0m \u001b[32m━━━━━━━━━━━━━━━━━━━━\u001b[0m\u001b[37m\u001b[0m \u001b[1m3s\u001b[0m 226ms/step - accuracy: 1.0000 - loss: 4.0053e-05 - val_accuracy: 0.6038 - val_loss: 2.5802\n",
      "Epoch 89/90\n",
      "\u001b[1m11/11\u001b[0m \u001b[32m━━━━━━━━━━━━━━━━━━━━\u001b[0m\u001b[37m\u001b[0m \u001b[1m3s\u001b[0m 236ms/step - accuracy: 1.0000 - loss: 3.9030e-05 - val_accuracy: 0.6038 - val_loss: 2.5842\n",
      "Epoch 90/90\n",
      "\u001b[1m11/11\u001b[0m \u001b[32m━━━━━━━━━━━━━━━━━━━━\u001b[0m\u001b[37m\u001b[0m \u001b[1m2s\u001b[0m 223ms/step - accuracy: 1.0000 - loss: 3.8103e-05 - val_accuracy: 0.6038 - val_loss: 2.5881\n"
     ]
    }
   ],
   "source": [
    "history = model.fit(X_train, y_train, epochs=90, batch_size=20, validation_data=(X_test, y_test))  \n"
   ]
  },
  {
   "cell_type": "markdown",
   "metadata": {},
   "source": [
    "ارزیابی مدل"
   ]
  },
  {
   "cell_type": "code",
   "execution_count": 47,
   "metadata": {},
   "outputs": [
    {
     "name": "stdout",
     "output_type": "stream",
     "text": [
      "\u001b[1m2/2\u001b[0m \u001b[32m━━━━━━━━━━━━━━━━━━━━\u001b[0m\u001b[37m\u001b[0m \u001b[1m0s\u001b[0m 83ms/step - accuracy: 0.5900 - loss: 2.7026\n",
      "Test Accuracy: 60.38%\n"
     ]
    }
   ],
   "source": [
    "test_loss, test_accuracy = model.evaluate(X_test, y_test)\n",
    "print(f\"Test Accuracy: {test_accuracy * 100:.2f}%\")"
   ]
  },
  {
   "cell_type": "markdown",
   "metadata": {},
   "source": [
    "رسم نمودار"
   ]
  },
  {
   "cell_type": "code",
   "execution_count": 48,
   "metadata": {},
   "outputs": [
    {
     "data": {
      "image/png": "[encoded data removed]",
      "text/plain": [
       "<Figure size 1200x500 with 2 Axes>"
      ]
     },
     "metadata": {},
     "output_type": "display_data"
    }
   ],
   "source": [
    "# accuracy  \n",
    "plt.figure(figsize=(12, 5))  \n",
    "plt.subplot(1, 2, 1)  \n",
    "plt.plot(history.history['accuracy'], label='Training Accuracy')  \n",
    "plt.plot(history.history['val_accuracy'], label='Validation Accuracy')  \n",
    "plt.title('Model Accuracy')  \n",
    "plt.xlabel('Epochs')  \n",
    "plt.ylabel('Accuracy')  \n",
    "plt.legend(loc='lower right')  \n",
    "\n",
    "# loss  \n",
    "plt.subplot(1, 2, 2)  \n",
    "plt.plot(history.history['loss'], label='Training Loss')  \n",
    "plt.plot(history.history['val_loss'], label='Validation Loss')  \n",
    "plt.title('Model Loss')  \n",
    "plt.xlabel('Epochs')  \n",
    "plt.ylabel('Loss')  \n",
    "plt.legend(loc='upper right')  \n",
    "\n",
    "#------------------------------------------------------------------\n",
    "\n",
    "plt.tight_layout()  \n",
    "plt.show()"
   ]
  }
 ],
 "metadata": {
  "kernelspec": {
   "display_name": "Python 3",
   "language": "python",
   "name": "python3"
  },
  "language_info": {
   "codemirror_mode": {
    "name": "ipython",
    "version": 3
   },
   "file_extension": ".py",
   "mimetype": "text/x-python",
   "name": "python",
   "nbconvert_exporter": "python",
   "pygments_lexer": "ipython3",
   "version": "3.12.3"
  }
 },
 "nbformat": 4,
 "nbformat_minor": 2
}
